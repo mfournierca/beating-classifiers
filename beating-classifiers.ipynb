{
 "metadata": {
  "name": ""
 },
 "nbformat": 3,
 "nbformat_minor": 0,
 "worksheets": [
  {
   "cells": [
    {
     "cell_type": "code",
     "collapsed": false,
     "input": [
      "import matplotlib\n",
      "import matplotlib.pyplot as plt\n",
      "%matplotlib inline  "
     ],
     "language": "python",
     "metadata": {},
     "outputs": [],
     "prompt_number": 38
    },
    {
     "cell_type": "markdown",
     "metadata": {},
     "source": [
      "# Beating Classifiers\n",
      "\n",
      "### Please Note\n",
      "\n",
      "I am not a spammer! I've studied machine learning and classification over the last year and became interested in the topic. I've always thought that a good way to learn about how something works is to break it. The desire to break classification systems in order to learn about them is what drove me to work on this project. \n",
      "\n",
      "## Introduction\n",
      "\n",
      "Imagine we are sending messages to a classifier for which we can only observe the input features and the classification result. For example: \n",
      "\n",
      "- Sending messages to an email inbox where they are filtered by a spam classifier. \n",
      "- Asking bots to scrape a website where they are filtered by a bot detection algorithm. \n",
      "\n",
      "In these cases we can have access to the input data and can find some way of getting the classification result.\n",
      "\n",
      "Using this information, we want to devise an method that can beat the classifier. \"Beating the classifier\" means crafting feature vectors which:\n",
      "\n",
      "- Satisify some requirements we define, and \n",
      "- Are not rejected by the classifier\n",
      "\n",
      "## Preliminaries\n",
      "\n",
      "### Prerequisites\n",
      "\n",
      "- Familiarity with machine learning techniques and terminology, e.g. \"classifier\", \"training set\", etc. \n",
      "- Familiarity with the Logistical Regresssion Classifier specifically, the sigmoid function, log-loss scoring, etc. \n",
      "\n",
      "### Definitions\n",
      "\n",
      "- The Classifier: The classifier we are trying to beat\n",
      "- The Anti-Classifier: The algorithm we write to try and beat the classifier\n",
      "- Message: The raw message / object that we is constructed by the anti-classifier and sent to the classifier\n",
      "- Feature Vector: A vector of features extracted from the message\n",
      "- Feature Specificiations: The data type, max / min value and name of each variable entry in the feature vector\n",
      "- Feature Contraints: A set of requirements we want our feature vector to satisfy while still passing through the classifier\n",
      "\n",
      "## General Approach\n",
      "\n",
      "We tackle this problem by building our own anti-classifier which learns the behaviour of the target classifier. By using the information in the decision function of this anti-classifier we should be able craft feature vectors which we expect to pass through the classifier. \n",
      "\n",
      "We proceed as follows:\n",
      "\n",
      "- Stage One: Train the Anti-Classifier\n",
      "\n",
      "    1. Define feature specifications, i.e. name, max value, min value, data type for each feature used by the classifier\n",
      "    1. Randomly generate a set of intial feature vectors that conform to the specifications\n",
      "    1. Create a logisitical regression classifier to use as our anti-classifier. \n",
      "    1. Create messages out of the randomly generated set of feature vectors and send these messages to the classifier \n",
      "    1. Record the result for each message\n",
      "    1. Use the results to train the anti-classifier\n",
      "\n",
      "- Stage Two: Use the Anti-Classifier\n",
      "    \n",
      "    1. Create feature constraints, i.e. a range of values that features must fall into\n",
      "    1. Generate a feature vector that minimizes the decision function of the anti-classifier under those contraints\n",
      "    1. Output the result\n",
      "\n",
      "The result is a feature vector which we expect to not be caught by the classifier. \n",
      "\n",
      "### Simplifications\n",
      "\n",
      "One of the most complex and error-prone portions of this approach would be a translation layer between feature vectors and messages (Stage 1, step 4, above). A feature vector would go through the following transformations:\n",
      "\n",
      "    Anti-Classifier Features --(Anti-Classifier Translation)--> Messages --(Classifier Translation)--> Classifier Features\n",
      "\n",
      "There are several hurdles to overcome:\n",
      "\n",
      "- We are not allowed to know the Classifier Translation step\n",
      "- The Anti-Classifier translation layer is specific to each use case\n",
      "- We risk missing features that are significant to the classifier\n",
      "\n",
      "For the purposes of this document we ignore the translation layer and concentrate on the core algorithm. Do do this, we simply grant the the anti-classifier access to the feature specifications of the classifier. The message-passing therefore takes the form:\n",
      "\n",
      "    Anti-Classifier Features --> Classifier Features\n",
      "\n",
      "The features do not undergo any transformation between the two components. However we avoid sharing too much information by not giving the anti-classifier access to the classifier parameters or the classifier training set. \n",
      "\n",
      "### Test Data\n",
      "\n",
      "For this project we use the (Spambase Data Set)[https://archive.ics.uci.edu/ml/datasets/Spambase] from the (UCI Machine Learning Repository)[https://archive.ics.uci.edu/ml/index.html]. \n",
      "\n"
     ]
    },
    {
     "cell_type": "markdown",
     "metadata": {},
     "source": [
      "## Algorithm\n",
      "\n",
      "The code for the this algorithm can be found in the `src/` directory. \n",
      "\n",
      "### Initialization \n",
      "\n",
      "We begin by loading test data using `src/data.py`.  \n"
     ]
    },
    {
     "cell_type": "code",
     "collapsed": false,
     "input": [
      "from src import data\n",
      "xtrain, xtest, ytrain, ytest = data.load_spambase_test_train()\n",
      "print(\"Number of features: {0}\".format(len(xtrain.columns)))\n",
      "xtrain[xtrain.columns[:5]].describe()"
     ],
     "language": "python",
     "metadata": {},
     "outputs": [
      {
       "output_type": "stream",
       "stream": "stdout",
       "text": [
        "Number of features: 57\n"
       ]
      },
      {
       "html": [
        "<div style=\"max-width:1500px;overflow:auto;\">\n",
        "<table border=\"1\" class=\"dataframe\">\n",
        "  <thead>\n",
        "    <tr style=\"text-align: right;\">\n",
        "      <th></th>\n",
        "      <th>capital_run_length_average</th>\n",
        "      <th>capital_run_length_longest</th>\n",
        "      <th>capital_run_length_total</th>\n",
        "      <th>char_freq_!</th>\n",
        "      <th>char_freq_#</th>\n",
        "    </tr>\n",
        "  </thead>\n",
        "  <tbody>\n",
        "    <tr>\n",
        "      <th>count</th>\n",
        "      <td>3082.000000</td>\n",
        "      <td>3082.000000</td>\n",
        "      <td>3082.000000</td>\n",
        "      <td>3082.000000</td>\n",
        "      <td>3082.000000</td>\n",
        "    </tr>\n",
        "    <tr>\n",
        "      <th>mean</th>\n",
        "      <td>4.899553</td>\n",
        "      <td>52.884491</td>\n",
        "      <td>289.825438</td>\n",
        "      <td>0.276092</td>\n",
        "      <td>0.050973</td>\n",
        "    </tr>\n",
        "    <tr>\n",
        "      <th>std</th>\n",
        "      <td>25.285658</td>\n",
        "      <td>216.191784</td>\n",
        "      <td>609.223593</td>\n",
        "      <td>0.906813</td>\n",
        "      <td>0.496842</td>\n",
        "    </tr>\n",
        "    <tr>\n",
        "      <th>min</th>\n",
        "      <td>1.000000</td>\n",
        "      <td>1.000000</td>\n",
        "      <td>1.000000</td>\n",
        "      <td>0.000000</td>\n",
        "      <td>0.000000</td>\n",
        "    </tr>\n",
        "    <tr>\n",
        "      <th>25%</th>\n",
        "      <td>1.576250</td>\n",
        "      <td>6.000000</td>\n",
        "      <td>34.000000</td>\n",
        "      <td>0.000000</td>\n",
        "      <td>0.000000</td>\n",
        "    </tr>\n",
        "    <tr>\n",
        "      <th>50%</th>\n",
        "      <td>2.275500</td>\n",
        "      <td>14.000000</td>\n",
        "      <td>93.500000</td>\n",
        "      <td>0.000000</td>\n",
        "      <td>0.000000</td>\n",
        "    </tr>\n",
        "    <tr>\n",
        "      <th>75%</th>\n",
        "      <td>3.706750</td>\n",
        "      <td>43.000000</td>\n",
        "      <td>267.000000</td>\n",
        "      <td>0.326000</td>\n",
        "      <td>0.000000</td>\n",
        "    </tr>\n",
        "    <tr>\n",
        "      <th>max</th>\n",
        "      <td>667.000000</td>\n",
        "      <td>9989.000000</td>\n",
        "      <td>10062.000000</td>\n",
        "      <td>32.478000</td>\n",
        "      <td>19.829000</td>\n",
        "    </tr>\n",
        "  </tbody>\n",
        "</table>\n",
        "</div>"
       ],
       "metadata": {},
       "output_type": "pyout",
       "prompt_number": 17,
       "text": [
        "       capital_run_length_average  capital_run_length_longest  \\\n",
        "count                 3082.000000                 3082.000000   \n",
        "mean                     4.899553                   52.884491   \n",
        "std                     25.285658                  216.191784   \n",
        "min                      1.000000                    1.000000   \n",
        "25%                      1.576250                    6.000000   \n",
        "50%                      2.275500                   14.000000   \n",
        "75%                      3.706750                   43.000000   \n",
        "max                    667.000000                 9989.000000   \n",
        "\n",
        "       capital_run_length_total  char_freq_!  char_freq_#  \n",
        "count               3082.000000  3082.000000  3082.000000  \n",
        "mean                 289.825438     0.276092     0.050973  \n",
        "std                  609.223593     0.906813     0.496842  \n",
        "min                    1.000000     0.000000     0.000000  \n",
        "25%                   34.000000     0.000000     0.000000  \n",
        "50%                   93.500000     0.000000     0.000000  \n",
        "75%                  267.000000     0.326000     0.000000  \n",
        "max                10062.000000    32.478000    19.829000  "
       ]
      }
     ],
     "prompt_number": 17
    },
    {
     "cell_type": "markdown",
     "metadata": {},
     "source": [
      "`xtrain` and `ytrain` are the feature vectors and classification labels for the training set. `xtest` and `ytest` make up the tests set. There are 57 features in total. \n",
      "\n",
      "We can now initialize and train one of the classifiers from `src/classifier.py`:"
     ]
    },
    {
     "cell_type": "code",
     "collapsed": false,
     "input": [
      "from src import classifier\n",
      "logistic = classifier.logistic()\n",
      "logistic.fit(xtrain, ytrain)\n",
      "logistic.score(xtest, ytest)"
     ],
     "language": "python",
     "metadata": {},
     "outputs": [
      {
       "metadata": {},
       "output_type": "pyout",
       "prompt_number": 4,
       "text": [
        "0.92626728110599077"
       ]
      }
     ],
     "prompt_number": 4
    },
    {
     "cell_type": "markdown",
     "metadata": {},
     "source": [
      "The trained classfier has a precision of 93% on the test set. \n",
      "\n",
      "To create an anticlassifier we need the specifications which define each of the features in the vectors we will generate. The file `src/features.py` examines the spambase training set and generates these specifications for us:"
     ]
    },
    {
     "cell_type": "code",
     "collapsed": false,
     "input": [
      "from pprint import pprint\n",
      "from src import features\n",
      "feature_specs = features.SPAMBASE_FEATURE_SPECS\n",
      "pprint(feature_specs[:5])"
     ],
     "language": "python",
     "metadata": {},
     "outputs": []
    },
    {
     "cell_type": "markdown",
     "metadata": {},
     "source": [
      "The feature specs define maximum values, minimum values, and data types for each feature. \n",
      "\n",
      "With this data in hand we can create the anti-classifier using the file `src/anticlassifier.py`:"
     ]
    },
    {
     "cell_type": "code",
     "collapsed": false,
     "input": [
      "from src import anticlassifier\n",
      "anti = anticlassifier.AntiClassifier(logistic, feature_specs)"
     ],
     "language": "python",
     "metadata": {},
     "outputs": [],
     "prompt_number": 24
    },
    {
     "cell_type": "markdown",
     "metadata": {},
     "source": [
      "Upon initialization the `AntiClassifier` object randomly creates 10,000 feature vectors using the provided specifications. It sends these feature vectors to the classifier and records the result. It then uses this information to train it's own anti-classifier. "
     ]
    },
    {
     "cell_type": "code",
     "collapsed": false,
     "input": [
      "anti.anticlassifier"
     ],
     "language": "python",
     "metadata": {},
     "outputs": [
      {
       "metadata": {},
       "output_type": "pyout",
       "prompt_number": 25,
       "text": [
        "Pipeline(steps=[('transform', Pipeline(steps=[('scaler', StandardScaler(copy=True, with_mean=True, with_std=True))])), ('logistic', LogisticRegression(C=1.0, class_weight=None, dual=False, fit_intercept=True,\n",
        "          intercept_scaling=1, max_iter=100, multi_class='ovr',\n",
        "          penalty='l2', random_state=None, solver='liblinear', tol=0.0001,\n",
        "          verbose=0))])"
       ]
      }
     ],
     "prompt_number": 25
    },
    {
     "cell_type": "markdown",
     "metadata": {},
     "source": [
      "The parameters of this anti-classifier can be examined:"
     ]
    },
    {
     "cell_type": "code",
     "collapsed": false,
     "input": [
      "anti._lg_coefs()"
     ],
     "language": "python",
     "metadata": {},
     "outputs": [
      {
       "metadata": {},
       "output_type": "pyout",
       "prompt_number": 27,
       "text": [
        "array([-0.59371721,  5.21976853,  0.66563191,  0.68231796,  3.40803816,\n",
        "        2.55593076, -0.09321724, -0.63665364, -1.04903439,  1.05073332,\n",
        "       -0.42083714,  1.42649124, -1.26482602,  0.15820815, -2.25866321,\n",
        "        0.26896796, -0.14949918,  0.36958354,  0.19165077,  0.52949179,\n",
        "       -1.55144751,  1.33183915, -2.91742024, -1.45333764, -0.23731202,\n",
        "       -2.01262521,  0.05247497,  0.43473568,  1.8813781 , -3.20101345,\n",
        "       -2.58961489, -0.94915857,  0.51159239, -1.35074572, -0.89009403,\n",
        "        0.05629574, -0.14024281, -1.6227735 ,  0.3538652 ,  0.21628842,\n",
        "       -0.24829001,  0.27806072,  0.25327916, -0.49820693,  0.02003644,\n",
        "       -0.754923  , -2.05029181, -1.52258117, -0.05179178,  1.35112996,\n",
        "        0.03135411, -0.41025854,  0.28805579, -0.08992643, -0.05382914,\n",
        "        0.0909433 ,  0.17586318])"
       ]
      }
     ],
     "prompt_number": 27
    },
    {
     "cell_type": "markdown",
     "metadata": {},
     "source": [
      "### Generating Feature Vectors\n",
      "\n",
      "The `get()` method is used to generate a feature vector which minimizes the anti-classifier's decision function under a set of provided constraints. We can generate such feature vector with no constraints:"
     ]
    },
    {
     "cell_type": "code",
     "collapsed": false,
     "input": [
      "v = anti.get([])\n",
      "print(v)"
     ],
     "language": "python",
     "metadata": {},
     "outputs": [
      {
       "output_type": "stream",
       "stream": "stdout",
       "text": [
        "[  4.78063014e+02   6.99400000e+03   8.66700000e+03   2.02628232e+01\n",
        "   8.14344663e+00   2.84812793e+00   9.64759029e+00   3.77544424e+00\n",
        "   3.16802839e+00   3.81283307e+00   4.71189292e+00   3.83884781e+00\n",
        "   7.21977563e-01   1.29492623e+00   6.51781872e+00   3.90789400e-01\n",
        "   6.72931367e+00   2.22965341e+00   3.11304362e-01   9.01342249e-01\n",
        "   4.94447305e+00   1.08683822e+01   4.17139108e+00   1.26235332e+01\n",
        "   2.11297064e+00   8.31262543e+00   4.08096761e+00   2.13697454e+00\n",
        "   1.56711451e+00   2.09573500e+01   1.28400164e+01   4.93735357e+00\n",
        "   6.70799474e-01   5.01157055e+00   5.14033704e+00   1.06432832e+01\n",
        "   5.21134006e-01   5.86555435e+00   1.17706573e+00   1.60955276e+00\n",
        "   2.29982482e+00   5.60210861e+00   4.01366653e+00   7.26823889e+00\n",
        "   4.05715493e+00   7.66174828e+00   2.42419077e+00   1.59218259e+01\n",
        "   2.00029901e+00   4.33470240e+00   7.46775675e+00   1.20833876e+00\n",
        "   9.05267953e-01   1.16542442e+00   7.93817589e-01   1.70779055e+00\n",
        "   8.08166231e+00]\n"
       ]
      }
     ],
     "prompt_number": 31
    },
    {
     "cell_type": "markdown",
     "metadata": {},
     "source": [
      "By passing this generated feature vector to the classifier we see that it passes through, as expected (a zero value indicates \"not-spam\" in the spambase data set). "
     ]
    },
    {
     "cell_type": "code",
     "collapsed": false,
     "input": [
      "logistic.predict(v)"
     ],
     "language": "python",
     "metadata": {},
     "outputs": [
      {
       "metadata": {},
       "output_type": "pyout",
       "prompt_number": 32,
       "text": [
        "array([0])"
       ]
      }
     ],
     "prompt_number": 32
    },
    {
     "cell_type": "markdown",
     "metadata": {},
     "source": [
      "We can also provide a set of constraints to get a different feature vector. "
     ]
    },
    {
     "cell_type": "code",
     "collapsed": false,
     "input": [
      "pprint(features.SPAMBASE_CONSTRAINTS)"
     ],
     "language": "python",
     "metadata": {},
     "outputs": [
      {
       "output_type": "stream",
       "stream": "stdout",
       "text": [
        "[{'fun': <function <lambda> at 0x10b8f3848>,\n",
        "  'init': <function <lambda> at 0x10b8f3f50>,\n",
        "  'name': 'capital_run_length_average_gt_10',\n",
        "  'type': 'ineq'},\n",
        " {'fun': <function <lambda> at 0x10b8f35f0>,\n",
        "  'init': <function <lambda> at 0x10b8f3ed8>,\n",
        "  'name': 'capital_run_length_longest_gt_5',\n",
        "  'type': 'ineq'}]\n"
       ]
      }
     ],
     "prompt_number": 33
    },
    {
     "cell_type": "code",
     "collapsed": false,
     "input": [
      "v = anti.get(features.SPAMBASE_CONSTRAINTS)\n",
      "print(v)"
     ],
     "language": "python",
     "metadata": {},
     "outputs": [
      {
       "output_type": "stream",
       "stream": "stdout",
       "text": [
        "[  2.41644276e+03   1.94049558e+04   7.92498928e+03   1.62032033e+01\n",
        "   9.89032580e+00   2.98960040e+00   7.82272721e+00   4.12164493e+00\n",
        "   3.80826494e+00   2.73384633e+00   4.95055012e+00   2.13293210e+01\n",
        "   2.97581904e+00   4.17654396e+00   1.44486798e+01   2.37157579e+00\n",
        "   7.53820776e+00   1.42940296e+00   2.74299271e+00   5.81564573e+00\n",
        "   9.72164843e+00   1.16599720e+01   5.50516376e+00   1.15546444e+01\n",
        "   2.55653213e+00   1.38904801e+01   3.26372455e+00   8.51246630e+00\n",
        "   1.61002119e+01   3.25900854e+01   1.52470017e+01   4.84347169e+00\n",
        "   5.58521291e+00   8.42370494e+00   3.38326910e+00   1.09174965e+01\n",
        "   2.31010606e+00   7.33797663e+00   1.17838709e+01   1.94612349e+00\n",
        "   2.54000431e+00   8.87055256e+00   3.19865333e+00   4.61598440e+00\n",
        "   4.25599385e+00   1.14099900e+01   1.14288411e+01   1.62505688e+01\n",
        "   1.37362463e+00   3.65855969e+00   9.88862021e+00   1.72819962e+00\n",
        "   2.39753587e+00   3.10433772e+00   5.00818304e+00   9.32712949e+00\n",
        "   1.00958850e+01]\n"
       ]
      }
     ],
     "prompt_number": 36
    },
    {
     "cell_type": "code",
     "collapsed": false,
     "input": [
      "logistic.predict(v)"
     ],
     "language": "python",
     "metadata": {},
     "outputs": [
      {
       "metadata": {},
       "output_type": "pyout",
       "prompt_number": 35,
       "text": [
        "array([0])"
       ]
      }
     ],
     "prompt_number": 35
    },
    {
     "cell_type": "markdown",
     "metadata": {},
     "source": [
      "## Testing the Anti-Classifier\n",
      "\n",
      "To test the performance of the anti-classifier we proceed as follows:\n",
      "\n",
      "- Determine the most significant features in prediction\n",
      "- Constrain these features one by one and test how well the anti-classifier performs\n",
      "- Constraints can maximize or minimize features\n",
      "\n",
      "This process is implemented in the `src/evaluate.py` file. "
     ]
    },
    {
     "cell_type": "code",
     "collapsed": false,
     "input": [
      "from src import evaluate"
     ],
     "language": "python",
     "metadata": {},
     "outputs": [],
     "prompt_number": 40
    },
    {
     "cell_type": "markdown",
     "metadata": {},
     "source": [
      "The most significant features are determined by examining the p-values of an ANOVA hypothesis test. These features can then constrained to their maximum and minimum values to determine how well the anti-classifier performs. \n",
      "\n",
      "We can perform this test for several different target classifiers. \n",
      "\n",
      "### Logistical Regression Classifier\n",
      "\n",
      "The logistical regression classifier was already initialized, above. To test it we pass it to the `evaluate.evaluate()` function. "
     ]
    },
    {
     "cell_type": "code",
     "collapsed": false,
     "input": [
      "perf_max_constraint = evaluate.evaluate(logistic, constrain=\"max\")\n",
      "perf_min_constraint = evaluate.evaluate(logistic, constrain=\"min\")\n",
      "perf_max_constraint.head(10)"
     ],
     "language": "python",
     "metadata": {},
     "outputs": [
      {
       "html": [
        "<div style=\"max-width:1500px;overflow:auto;\">\n",
        "<table border=\"1\" class=\"dataframe\">\n",
        "  <thead>\n",
        "    <tr style=\"text-align: right;\">\n",
        "      <th></th>\n",
        "      <th>significant_features_constrained</th>\n",
        "      <th>anticlassifier_score</th>\n",
        "      <th>classifier_score</th>\n",
        "    </tr>\n",
        "  </thead>\n",
        "  <tbody>\n",
        "    <tr>\n",
        "      <th>1</th>\n",
        "      <td>0</td>\n",
        "      <td>0.979</td>\n",
        "      <td>0.926267</td>\n",
        "    </tr>\n",
        "    <tr>\n",
        "      <th>2</th>\n",
        "      <td>1</td>\n",
        "      <td>0.656</td>\n",
        "      <td>0.926267</td>\n",
        "    </tr>\n",
        "    <tr>\n",
        "      <th>3</th>\n",
        "      <td>2</td>\n",
        "      <td>0.286</td>\n",
        "      <td>0.926267</td>\n",
        "    </tr>\n",
        "    <tr>\n",
        "      <th>4</th>\n",
        "      <td>3</td>\n",
        "      <td>0.000</td>\n",
        "      <td>0.926267</td>\n",
        "    </tr>\n",
        "    <tr>\n",
        "      <th>5</th>\n",
        "      <td>4</td>\n",
        "      <td>0.000</td>\n",
        "      <td>0.926267</td>\n",
        "    </tr>\n",
        "  </tbody>\n",
        "</table>\n",
        "</div>"
       ],
       "metadata": {},
       "output_type": "pyout",
       "prompt_number": 41,
       "text": [
        "   significant_features_constrained  anticlassifier_score  classifier_score\n",
        "1                                 0                 0.979          0.926267\n",
        "2                                 1                 0.656          0.926267\n",
        "3                                 2                 0.286          0.926267\n",
        "4                                 3                 0.000          0.926267\n",
        "5                                 4                 0.000          0.926267"
       ]
      }
     ],
     "prompt_number": 41
    },
    {
     "cell_type": "code",
     "collapsed": false,
     "input": [
      "plt.plot(perf_max_constraint[\"significant_features_constrained\"], perf_max_constraint[\"anticlassifier_score\"])"
     ],
     "language": "python",
     "metadata": {},
     "outputs": [
      {
       "metadata": {},
       "output_type": "pyout",
       "prompt_number": 42,
       "text": [
        "[<matplotlib.lines.Line2D at 0x10e57af50>]"
       ]
      },
      {
       "metadata": {},
       "output_type": "display_data",
       "png": "[encoded data removed]",
       "text": [
        "<matplotlib.figure.Figure at 0x10bc28e50>"
       ]
      }
     ],
     "prompt_number": 42
    },
    {
     "cell_type": "markdown",
     "metadata": {},
     "source": [
      "By maximizing just 3 of the 57 features used by the classifier we become completely unable to generate vectors which are accepted. Most machine-learning problem spaces have only a few features which dominate the output so this behaviour is expected. \n",
      "\n",
      "We can turn this around by minimizing the significant features instead of maximizing:"
     ]
    },
    {
     "cell_type": "code",
     "collapsed": false,
     "input": [
      "plt.plot(perf_min_constraint[\"significant_features_constrained\"], perf_min_constraint[\"anticlassifier_score\"])"
     ],
     "language": "python",
     "metadata": {},
     "outputs": [
      {
       "metadata": {},
       "output_type": "pyout",
       "prompt_number": 43,
       "text": [
        "[<matplotlib.lines.Line2D at 0x10b5d3590>]"
       ]
      },
      {
       "metadata": {},
       "output_type": "display_data",
       "png": "[encoded data removed]",
       "text": [
        "<matplotlib.figure.Figure at 0x10b3fe150>"
       ]
      }
     ],
     "prompt_number": 43
    },
    {
     "cell_type": "markdown",
     "metadata": {},
     "source": [
      "### The Naive Bayes Classifier\n",
      "\n",
      "Next we target a naive bayes classifier and perform the same test. "
     ]
    },
    {
     "cell_type": "code",
     "collapsed": false,
     "input": [
      "bayes = classifier.naive_bayes()\n",
      "bayes.fit(xtrain, ytrain)\n",
      "print(bayes.score(xtest, ytest))"
     ],
     "language": "python",
     "metadata": {},
     "outputs": [
      {
       "output_type": "stream",
       "stream": "stdout",
       "text": [
        "0.810401579987\n"
       ]
      }
     ],
     "prompt_number": 45
    },
    {
     "cell_type": "code",
     "collapsed": false,
     "input": [
      "perf_max_constraint = evaluate.evaluate(bayes, constrain=\"max\")\n",
      "perf_min_constraint = evaluate.evaluate(bayes, constrain=\"min\")\n",
      "perf_max_constraint.head(10)"
     ],
     "language": "python",
     "metadata": {},
     "outputs": [
      {
       "html": [
        "<div style=\"max-width:1500px;overflow:auto;\">\n",
        "<table border=\"1\" class=\"dataframe\">\n",
        "  <thead>\n",
        "    <tr style=\"text-align: right;\">\n",
        "      <th></th>\n",
        "      <th>significant_features_constrained</th>\n",
        "      <th>anticlassifier_score</th>\n",
        "      <th>classifier_score</th>\n",
        "    </tr>\n",
        "  </thead>\n",
        "  <tbody>\n",
        "    <tr>\n",
        "      <th>1</th>\n",
        "      <td>0</td>\n",
        "      <td>1</td>\n",
        "      <td>0.810402</td>\n",
        "    </tr>\n",
        "    <tr>\n",
        "      <th>2</th>\n",
        "      <td>1</td>\n",
        "      <td>1</td>\n",
        "      <td>0.810402</td>\n",
        "    </tr>\n",
        "    <tr>\n",
        "      <th>3</th>\n",
        "      <td>2</td>\n",
        "      <td>1</td>\n",
        "      <td>0.810402</td>\n",
        "    </tr>\n",
        "    <tr>\n",
        "      <th>4</th>\n",
        "      <td>3</td>\n",
        "      <td>1</td>\n",
        "      <td>0.810402</td>\n",
        "    </tr>\n",
        "    <tr>\n",
        "      <th>5</th>\n",
        "      <td>4</td>\n",
        "      <td>1</td>\n",
        "      <td>0.810402</td>\n",
        "    </tr>\n",
        "    <tr>\n",
        "      <th>6</th>\n",
        "      <td>5</td>\n",
        "      <td>1</td>\n",
        "      <td>0.810402</td>\n",
        "    </tr>\n",
        "    <tr>\n",
        "      <th>7</th>\n",
        "      <td>6</td>\n",
        "      <td>1</td>\n",
        "      <td>0.810402</td>\n",
        "    </tr>\n",
        "    <tr>\n",
        "      <th>8</th>\n",
        "      <td>7</td>\n",
        "      <td>1</td>\n",
        "      <td>0.810402</td>\n",
        "    </tr>\n",
        "    <tr>\n",
        "      <th>9</th>\n",
        "      <td>8</td>\n",
        "      <td>1</td>\n",
        "      <td>0.810402</td>\n",
        "    </tr>\n",
        "    <tr>\n",
        "      <th>10</th>\n",
        "      <td>9</td>\n",
        "      <td>1</td>\n",
        "      <td>0.810402</td>\n",
        "    </tr>\n",
        "  </tbody>\n",
        "</table>\n",
        "</div>"
       ],
       "metadata": {},
       "output_type": "pyout",
       "prompt_number": 46,
       "text": [
        "    significant_features_constrained  anticlassifier_score  classifier_score\n",
        "1                                  0                     1          0.810402\n",
        "2                                  1                     1          0.810402\n",
        "3                                  2                     1          0.810402\n",
        "4                                  3                     1          0.810402\n",
        "5                                  4                     1          0.810402\n",
        "6                                  5                     1          0.810402\n",
        "7                                  6                     1          0.810402\n",
        "8                                  7                     1          0.810402\n",
        "9                                  8                     1          0.810402\n",
        "10                                 9                     1          0.810402"
       ]
      }
     ],
     "prompt_number": 46
    },
    {
     "cell_type": "code",
     "collapsed": false,
     "input": [
      "plt.plot(perf_max_constraint[\"significant_features_constrained\"], perf_max_constraint[\"anticlassifier_score\"])"
     ],
     "language": "python",
     "metadata": {},
     "outputs": [
      {
       "metadata": {},
       "output_type": "pyout",
       "prompt_number": 47,
       "text": [
        "[<matplotlib.lines.Line2D at 0x10eeb45d0>]"
       ]
      },
      {
       "metadata": {},
       "output_type": "display_data",
       "png": "[encoded data removed]",
       "text": [
        "<matplotlib.figure.Figure at 0x10b9288d0>"
       ]
      }
     ],
     "prompt_number": 47
    },
    {
     "cell_type": "markdown",
     "metadata": {},
     "source": [
      "In this case it appears that the naive bayes classifier's precision was so low that the anti-classifier was always able to generate a vector that was accepted. "
     ]
    },
    {
     "cell_type": "markdown",
     "metadata": {},
     "source": [
      "### Support Vector Machine\n",
      "\n",
      "Finally we target a support vector machine. "
     ]
    },
    {
     "cell_type": "code",
     "collapsed": false,
     "input": [
      "import imp\n",
      "imp.reload(anticlassifier)\n",
      "imp.reload(evaluate)\n",
      "imp.reload(classifier)\n",
      "\n",
      "svm = classifier.svm()\n",
      "svm.fit(xtrain, ytrain)\n",
      "print(svm.score(xtest, ytest))"
     ],
     "language": "python",
     "metadata": {},
     "outputs": [
      {
       "output_type": "stream",
       "stream": "stdout",
       "text": [
        "0.932192231731\n"
       ]
      }
     ],
     "prompt_number": 48
    },
    {
     "cell_type": "code",
     "collapsed": false,
     "input": [
      "perf_max_constraint = evaluate.evaluate(svm, constrain=\"max\")\n",
      "perf_min_constraint = evaluate.evaluate(svm, constrain=\"min\")\n",
      "perf_max_constraint.head(10)"
     ],
     "language": "python",
     "metadata": {},
     "outputs": [
      {
       "ename": "ValueError",
       "evalue": "This solver needs samples of at least 2 classes in the data, but the data contains only one class: 0",
       "output_type": "pyerr",
       "traceback": [
        "\u001b[0;31m---------------------------------------------------------------------------\u001b[0m\n\u001b[0;31mValueError\u001b[0m                                Traceback (most recent call last)",
        "\u001b[0;32m<ipython-input-49-753286351a1e>\u001b[0m in \u001b[0;36m<module>\u001b[0;34m()\u001b[0m\n\u001b[0;32m----> 1\u001b[0;31m \u001b[0mperf_max_constraint\u001b[0m \u001b[0;34m=\u001b[0m \u001b[0mevaluate\u001b[0m\u001b[0;34m.\u001b[0m\u001b[0mevaluate\u001b[0m\u001b[0;34m(\u001b[0m\u001b[0msvm\u001b[0m\u001b[0;34m,\u001b[0m \u001b[0mconstrain\u001b[0m\u001b[0;34m=\u001b[0m\u001b[0;34m\"max\"\u001b[0m\u001b[0;34m)\u001b[0m\u001b[0;34m\u001b[0m\u001b[0m\n\u001b[0m\u001b[1;32m      2\u001b[0m \u001b[0mperf_min_constraint\u001b[0m \u001b[0;34m=\u001b[0m \u001b[0mevaluate\u001b[0m\u001b[0;34m.\u001b[0m\u001b[0mevaluate\u001b[0m\u001b[0;34m(\u001b[0m\u001b[0msvm\u001b[0m\u001b[0;34m,\u001b[0m \u001b[0mconstrain\u001b[0m\u001b[0;34m=\u001b[0m\u001b[0;34m\"min\"\u001b[0m\u001b[0;34m)\u001b[0m\u001b[0;34m\u001b[0m\u001b[0m\n\u001b[1;32m      3\u001b[0m \u001b[0mperf_max_constraint\u001b[0m\u001b[0;34m.\u001b[0m\u001b[0mhead\u001b[0m\u001b[0;34m(\u001b[0m\u001b[0;36m10\u001b[0m\u001b[0;34m)\u001b[0m\u001b[0;34m\u001b[0m\u001b[0m\n",
        "\u001b[0;32m/Users/matthewfournier/personal/beating_classifiers/src/evaluate.pyc\u001b[0m in \u001b[0;36mevaluate\u001b[0;34m(classifier, constrain)\u001b[0m\n\u001b[1;32m     70\u001b[0m     \u001b[0;31m# base case\u001b[0m\u001b[0;34m\u001b[0m\u001b[0;34m\u001b[0m\u001b[0m\n\u001b[1;32m     71\u001b[0m     p, r = anticlassifier_precision(\n\u001b[0;32m---> 72\u001b[0;31m         \u001b[0mclassifier\u001b[0m\u001b[0;34m,\u001b[0m \u001b[0mfeature_specs\u001b[0m\u001b[0;34m,\u001b[0m \u001b[0mconstraints\u001b[0m\u001b[0;34m,\u001b[0m \u001b[0mxtest\u001b[0m\u001b[0;34m,\u001b[0m \u001b[0mytest\u001b[0m\u001b[0;34m\u001b[0m\u001b[0m\n\u001b[0m\u001b[1;32m     73\u001b[0m     )\n\u001b[1;32m     74\u001b[0m     \u001b[0mdf\u001b[0m\u001b[0;34m.\u001b[0m\u001b[0mloc\u001b[0m\u001b[0;34m[\u001b[0m\u001b[0mlen\u001b[0m\u001b[0;34m(\u001b[0m\u001b[0mdf\u001b[0m\u001b[0;34m)\u001b[0m \u001b[0;34m+\u001b[0m \u001b[0;36m1\u001b[0m\u001b[0;34m]\u001b[0m \u001b[0;34m=\u001b[0m \u001b[0;34m[\u001b[0m\u001b[0;36m0\u001b[0m\u001b[0;34m,\u001b[0m \u001b[0mp\u001b[0m\u001b[0;34m]\u001b[0m\u001b[0;34m\u001b[0m\u001b[0m\n",
        "\u001b[0;32m/Users/matthewfournier/personal/beating_classifiers/src/evaluate.pyc\u001b[0m in \u001b[0;36manticlassifier_precision\u001b[0;34m(classifier, feature_specs, constraints, x, y)\u001b[0m\n\u001b[1;32m     37\u001b[0m \u001b[0;34m\u001b[0m\u001b[0m\n\u001b[1;32m     38\u001b[0m \u001b[0;32mdef\u001b[0m \u001b[0manticlassifier_precision\u001b[0m\u001b[0;34m(\u001b[0m\u001b[0mclassifier\u001b[0m\u001b[0;34m,\u001b[0m \u001b[0mfeature_specs\u001b[0m\u001b[0;34m,\u001b[0m \u001b[0mconstraints\u001b[0m\u001b[0;34m,\u001b[0m \u001b[0mx\u001b[0m\u001b[0;34m,\u001b[0m \u001b[0my\u001b[0m\u001b[0;34m)\u001b[0m\u001b[0;34m:\u001b[0m\u001b[0;34m\u001b[0m\u001b[0m\n\u001b[0;32m---> 39\u001b[0;31m     \u001b[0manti\u001b[0m \u001b[0;34m=\u001b[0m \u001b[0manticlassifier\u001b[0m\u001b[0;34m.\u001b[0m\u001b[0mAntiClassifier\u001b[0m\u001b[0;34m(\u001b[0m\u001b[0mclassifier\u001b[0m\u001b[0;34m,\u001b[0m \u001b[0mfeature_specs\u001b[0m\u001b[0;34m)\u001b[0m\u001b[0;34m\u001b[0m\u001b[0m\n\u001b[0m\u001b[1;32m     40\u001b[0m     record = pd.DataFrame(\n\u001b[1;32m     41\u001b[0m         \u001b[0mcolumns\u001b[0m\u001b[0;34m=\u001b[0m\u001b[0;34m[\u001b[0m\u001b[0mi\u001b[0m\u001b[0;34m[\u001b[0m\u001b[0;34m\"name\"\u001b[0m\u001b[0;34m]\u001b[0m \u001b[0;32mfor\u001b[0m \u001b[0mi\u001b[0m \u001b[0;32min\u001b[0m \u001b[0mfeature_specs\u001b[0m\u001b[0;34m]\u001b[0m \u001b[0;34m+\u001b[0m \u001b[0;34m[\u001b[0m\u001b[0;34m\"classifier_predict\"\u001b[0m\u001b[0;34m]\u001b[0m\u001b[0;34m\u001b[0m\u001b[0m\n",
        "\u001b[0;32m/Users/matthewfournier/personal/beating_classifiers/src/anticlassifier.pyc\u001b[0m in \u001b[0;36m__init__\u001b[0;34m(self, classifier, feature_specs, prepare)\u001b[0m\n\u001b[1;32m     49\u001b[0m         )\n\u001b[1;32m     50\u001b[0m         \u001b[0;32mif\u001b[0m \u001b[0mprepare\u001b[0m\u001b[0;34m:\u001b[0m\u001b[0;34m\u001b[0m\u001b[0m\n\u001b[0;32m---> 51\u001b[0;31m             \u001b[0mself\u001b[0m\u001b[0;34m.\u001b[0m\u001b[0mprepare\u001b[0m\u001b[0;34m(\u001b[0m\u001b[0;34m)\u001b[0m\u001b[0;34m\u001b[0m\u001b[0m\n\u001b[0m\u001b[1;32m     52\u001b[0m \u001b[0;34m\u001b[0m\u001b[0m\n\u001b[1;32m     53\u001b[0m     \u001b[0;32mdef\u001b[0m \u001b[0mprepare\u001b[0m\u001b[0;34m(\u001b[0m\u001b[0mself\u001b[0m\u001b[0;34m,\u001b[0m \u001b[0mnum_points\u001b[0m\u001b[0;34m=\u001b[0m\u001b[0;36m10000\u001b[0m\u001b[0;34m)\u001b[0m\u001b[0;34m:\u001b[0m\u001b[0;34m\u001b[0m\u001b[0m\n",
        "\u001b[0;32m/Users/matthewfournier/personal/beating_classifiers/src/anticlassifier.pyc\u001b[0m in \u001b[0;36mprepare\u001b[0;34m(self, num_points)\u001b[0m\n\u001b[1;32m     78\u001b[0m \u001b[0;34m\u001b[0m\u001b[0m\n\u001b[1;32m     79\u001b[0m         \u001b[0;31m# fit the anticlassifier\u001b[0m\u001b[0;34m\u001b[0m\u001b[0;34m\u001b[0m\u001b[0m\n\u001b[0;32m---> 80\u001b[0;31m         \u001b[0mself\u001b[0m\u001b[0;34m.\u001b[0m\u001b[0manticlassifier\u001b[0m\u001b[0;34m.\u001b[0m\u001b[0mfit\u001b[0m\u001b[0;34m(\u001b[0m\u001b[0mself\u001b[0m\u001b[0;34m.\u001b[0m\u001b[0mxtrain\u001b[0m\u001b[0;34m,\u001b[0m \u001b[0mself\u001b[0m\u001b[0;34m.\u001b[0m\u001b[0mytrain\u001b[0m\u001b[0;34m)\u001b[0m\u001b[0;34m\u001b[0m\u001b[0m\n\u001b[0m\u001b[1;32m     81\u001b[0m \u001b[0;34m\u001b[0m\u001b[0m\n\u001b[1;32m     82\u001b[0m         \u001b[0;31m# used to periodically update / retrain the anticlassifier\u001b[0m\u001b[0;34m\u001b[0m\u001b[0;34m\u001b[0m\u001b[0m\n",
        "\u001b[0;32m/usr/local/lib/python2.7/site-packages/sklearn/pipeline.pyc\u001b[0m in \u001b[0;36mfit\u001b[0;34m(self, X, y, **fit_params)\u001b[0m\n\u001b[1;32m    139\u001b[0m         \"\"\"\n\u001b[1;32m    140\u001b[0m         \u001b[0mXt\u001b[0m\u001b[0;34m,\u001b[0m \u001b[0mfit_params\u001b[0m \u001b[0;34m=\u001b[0m \u001b[0mself\u001b[0m\u001b[0;34m.\u001b[0m\u001b[0m_pre_transform\u001b[0m\u001b[0;34m(\u001b[0m\u001b[0mX\u001b[0m\u001b[0;34m,\u001b[0m \u001b[0my\u001b[0m\u001b[0;34m,\u001b[0m \u001b[0;34m**\u001b[0m\u001b[0mfit_params\u001b[0m\u001b[0;34m)\u001b[0m\u001b[0;34m\u001b[0m\u001b[0m\n\u001b[0;32m--> 141\u001b[0;31m         \u001b[0mself\u001b[0m\u001b[0;34m.\u001b[0m\u001b[0msteps\u001b[0m\u001b[0;34m[\u001b[0m\u001b[0;34m-\u001b[0m\u001b[0;36m1\u001b[0m\u001b[0;34m]\u001b[0m\u001b[0;34m[\u001b[0m\u001b[0;34m-\u001b[0m\u001b[0;36m1\u001b[0m\u001b[0;34m]\u001b[0m\u001b[0;34m.\u001b[0m\u001b[0mfit\u001b[0m\u001b[0;34m(\u001b[0m\u001b[0mXt\u001b[0m\u001b[0;34m,\u001b[0m \u001b[0my\u001b[0m\u001b[0;34m,\u001b[0m \u001b[0;34m**\u001b[0m\u001b[0mfit_params\u001b[0m\u001b[0;34m)\u001b[0m\u001b[0;34m\u001b[0m\u001b[0m\n\u001b[0m\u001b[1;32m    142\u001b[0m         \u001b[0;32mreturn\u001b[0m \u001b[0mself\u001b[0m\u001b[0;34m\u001b[0m\u001b[0m\n\u001b[1;32m    143\u001b[0m \u001b[0;34m\u001b[0m\u001b[0m\n",
        "\u001b[0;32m/usr/local/lib/python2.7/site-packages/sklearn/linear_model/logistic.pyc\u001b[0m in \u001b[0;36mfit\u001b[0;34m(self, X, y)\u001b[0m\n\u001b[1;32m   1034\u001b[0m                 \u001b[0mX\u001b[0m\u001b[0;34m,\u001b[0m \u001b[0my\u001b[0m\u001b[0;34m,\u001b[0m \u001b[0mself\u001b[0m\u001b[0;34m.\u001b[0m\u001b[0mC\u001b[0m\u001b[0;34m,\u001b[0m \u001b[0mself\u001b[0m\u001b[0;34m.\u001b[0m\u001b[0mfit_intercept\u001b[0m\u001b[0;34m,\u001b[0m \u001b[0mself\u001b[0m\u001b[0;34m.\u001b[0m\u001b[0mintercept_scaling\u001b[0m\u001b[0;34m,\u001b[0m\u001b[0;34m\u001b[0m\u001b[0m\n\u001b[1;32m   1035\u001b[0m                 \u001b[0mself\u001b[0m\u001b[0;34m.\u001b[0m\u001b[0mclass_weight\u001b[0m\u001b[0;34m,\u001b[0m \u001b[0mself\u001b[0m\u001b[0;34m.\u001b[0m\u001b[0mpenalty\u001b[0m\u001b[0;34m,\u001b[0m \u001b[0mself\u001b[0m\u001b[0;34m.\u001b[0m\u001b[0mdual\u001b[0m\u001b[0;34m,\u001b[0m \u001b[0mself\u001b[0m\u001b[0;34m.\u001b[0m\u001b[0mverbose\u001b[0m\u001b[0;34m,\u001b[0m\u001b[0;34m\u001b[0m\u001b[0m\n\u001b[0;32m-> 1036\u001b[0;31m                 \u001b[0mself\u001b[0m\u001b[0;34m.\u001b[0m\u001b[0mmax_iter\u001b[0m\u001b[0;34m,\u001b[0m \u001b[0mself\u001b[0m\u001b[0;34m.\u001b[0m\u001b[0mtol\u001b[0m\u001b[0;34m\u001b[0m\u001b[0m\n\u001b[0m\u001b[1;32m   1037\u001b[0m                 )\n\u001b[1;32m   1038\u001b[0m             \u001b[0;32mreturn\u001b[0m \u001b[0mself\u001b[0m\u001b[0;34m\u001b[0m\u001b[0m\n",
        "\u001b[0;32m/usr/local/lib/python2.7/site-packages/sklearn/svm/base.pyc\u001b[0m in \u001b[0;36m_fit_liblinear\u001b[0;34m(X, y, C, fit_intercept, intercept_scaling, class_weight, penalty, dual, verbose, max_iter, tol, random_state, multi_class, loss, epsilon)\u001b[0m\n\u001b[1;32m    807\u001b[0m             raise ValueError(\"This solver needs samples of at least 2 classes\"\n\u001b[1;32m    808\u001b[0m                              \u001b[0;34m\" in the data, but the data contains only one\"\u001b[0m\u001b[0;34m\u001b[0m\u001b[0m\n\u001b[0;32m--> 809\u001b[0;31m                              \" class: %r\" % classes_[0])\n\u001b[0m\u001b[1;32m    810\u001b[0m \u001b[0;34m\u001b[0m\u001b[0m\n\u001b[1;32m    811\u001b[0m         \u001b[0mclass_weight_\u001b[0m \u001b[0;34m=\u001b[0m \u001b[0mcompute_class_weight\u001b[0m\u001b[0;34m(\u001b[0m\u001b[0mclass_weight\u001b[0m\u001b[0;34m,\u001b[0m \u001b[0mclasses_\u001b[0m\u001b[0;34m,\u001b[0m \u001b[0my\u001b[0m\u001b[0;34m)\u001b[0m\u001b[0;34m\u001b[0m\u001b[0m\n",
        "\u001b[0;31mValueError\u001b[0m: This solver needs samples of at least 2 classes in the data, but the data contains only one class: 0"
       ]
      }
     ],
     "prompt_number": 49
    },
    {
     "cell_type": "code",
     "collapsed": false,
     "input": [
      "plt.plot(perf_max_constraint[\"significant_features_constrained\"], perf_max_constraint[\"anticlassifier_score\"])"
     ],
     "language": "python",
     "metadata": {},
     "outputs": []
    },
    {
     "cell_type": "code",
     "collapsed": false,
     "input": [
      "plt.plot(perf_min_constraint[\"significant_features_constrained\"], perf_min_constraint[\"anticlassifier_score\"])"
     ],
     "language": "python",
     "metadata": {},
     "outputs": []
    },
    {
     "cell_type": "markdown",
     "metadata": {},
     "source": [
      "\n",
      "\n",
      "## Conclusions\n",
      "\n",
      "\n",
      "## Appendix\n",
      "\n",
      "### Feature -> Message Translation\n",
      "\n",
      "Would the `feature -> message` translation layer in the anti-classifier need to match the `message -> feature` extraction in the classifier?\n",
      "\n",
      "This part I'm not sure about.\n",
      "\n",
      "`anti-feature space -> message -> feature space`\n",
      "\n",
      "We know nothing about the second transform. We can't gaurantee anything about the composite transform. We might be working on a different basis, a different number of dimensions, etc, from the classifier feature space. We may not even be able to influence many of the features that the classifier depends on. \n",
      "\n",
      "If we need hundreds of features for our anti-classifier then we'll need to write a translation layer, by hand, that accounts for those hundreds of features. On the other hand, in most applications classifiers depend on a small number of features that contribute most strongly to the classification result, so even if the classifier uses hundreds we may only need to consider a handful of them. \n",
      "\n",
      "If we keep looking for an effective set of classifier features we will find them eventually. It may not always be possible, or it may take a long time, but it is possible in principle. "
     ]
    },
    {
     "cell_type": "code",
     "collapsed": false,
     "input": [],
     "language": "python",
     "metadata": {},
     "outputs": []
    },
    {
     "cell_type": "code",
     "collapsed": false,
     "input": [],
     "language": "python",
     "metadata": {},
     "outputs": []
    }
   ],
   "metadata": {}
  }
 ]
}