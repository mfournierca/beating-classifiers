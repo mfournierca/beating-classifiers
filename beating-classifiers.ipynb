{
 "metadata": {
  "name": ""
 },
 "nbformat": 3,
 "nbformat_minor": 0,
 "worksheets": [
  {
   "cells": [
    {
     "cell_type": "code",
     "collapsed": false,
     "input": [
      "import matplotlib\n",
      "import matplotlib.pyplot as plt\n",
      "%matplotlib inline  "
     ],
     "language": "python",
     "metadata": {},
     "outputs": [],
     "prompt_number": 21
    },
    {
     "cell_type": "markdown",
     "metadata": {},
     "source": [
      "# Beating Classifiers\n",
      "\n",
      "### Please Note\n",
      "\n",
      "I am not a spammer! I've studied machine learning and classification over the last year and became interested in the topic. I've always thought that a good way to learn about how something works is to break it. The desire to break classification systems in order to learn about them is what drove me to work on this project. \n",
      "\n",
      "## Introduction\n",
      "\n",
      "Imagine we are sending messages to a classifier for which we can only observe the input features and the classification result. For example: \n",
      "\n",
      "- Sending messages to an email inbox where they are filtered by a spam classifier. \n",
      "- Asking bots to scrape a website where they are filtered by a bot detection algorithm. \n",
      "\n",
      "In these cases we can have access to the data which is sent to the classifier and we can find some way of getting the classification result.\n",
      "\n",
      "Using this information, we want to devise an method that can beat the classifier. \"Beating the classifier\" means crafting feature vectors which:\n",
      "\n",
      "- Satisify some requirements we define, and \n",
      "- Are not rejected by the classifier\n",
      "\n",
      "## Preliminaries\n",
      "\n",
      "### Prerequisites\n",
      "\n",
      "- Familiarity with machine learning techniques and terminology, e.g. \"classifier\", \"training set\", etc. \n",
      "- Familiarity with the Logistical Regresssion Classifier specifically\n",
      "\n",
      "### Definitions\n",
      "\n",
      "- The Classifier: The classifier we are trying to beat\n",
      "- The Anti-Classifier: The algorithm we write to try and beat the classifier\n",
      "- Message: The raw message / object that we is constructed by the anti-classifier and sent to the classifier\n",
      "- Feature Vector: A vector of features extracted from the message\n",
      "- Feature Specificiations: The data type, max / min value and name of each variable entry in the feature vector\n",
      "- Feature Contraints: A set of requirements we want our feature vector to satisfy while still passing through the classifier\n",
      "\n",
      "## General Approach\n",
      "\n",
      "We tackle this problem by building our own anti-classifier which learns the behaviour of the target classifier. By manipulating the decision function of this anti-classifier we should be able craft feature vectors which pass through the classifier. \n",
      "\n",
      "We proceed as follows:\n",
      "\n",
      "- Stage One: Train the Anti-Classifier\n",
      "\n",
      "    1. Define feature specifications, i.e. name, max value, min value, data type for each feature used by the classifier\n",
      "    1. Randomly generate a set of intial feature vectors that conform to the specifications\n",
      "    1. Create a logisitical regression classifier to use as our anti-classifier. \n",
      "    1. Create messages out of the randomly generated set of feature vectors and send these messages to the classifier \n",
      "    1. Record the result for each message\n",
      "    1. Use the results to train the anti-classifier\n",
      "    \n",
      "At this point, the anti-classifier is trained on which messages pass through the classifier. \n",
      "\n",
      "- Stage Two: Use the Anti-Classifier\n",
      "    \n",
      "    1. Create feature constraints, i.e. a range of values that features must fall into\n",
      "    1. Generate a feature vector that minimizes the decision function of the anti-classifier under those contraints\n",
      "    1. Output the result\n",
      "\n",
      "The result is a feature vector which we expect to not be caught by the classifier. \n",
      "\n",
      "### Simplifications\n",
      "\n",
      "One of the most complex and error-prone portions of this approach would be a translation layer between feature vectors and messages (Stage 1, step 4, above). A feature vector would go through the following transformations:\n",
      "\n",
      "    Anti-Classifier Features --(Anti-Classifier Translation)--> Messages --(Classifier Translation)--> Classifier Features\n",
      "\n",
      "This presents us with several difficulties:\n",
      "\n",
      "- We are not allowed to know the Classifier Translation step\n",
      "- The Anti-Classifier translation layer is specific to each use case\n",
      "- We risk missing features that are significant to the classifier\n",
      "\n",
      "For the purposes of this document we ignore the translation layer and concentrate on the core algorithm. Do do this, we simply grant the the anti-classifier access to the feature specifications of the classifier. The message-passing therefore takes the form:\n",
      "\n",
      "    Anti-Classifier Features --> Classifier Features\n",
      "\n",
      "The features do not undergo any transformation between the two components. However we avoid sharing too much information by not giving the anti-classifier access to the classifier parameters or the classifier training set. \n",
      "\n",
      "### Test Data\n",
      "\n",
      "For this project we use the [Spambase Data Set](https://archive.ics.uci.edu/ml/datasets/Spambase) from the [UCI Machine Learning Repository](https://archive.ics.uci.edu/ml/index.html). \n",
      "\n"
     ]
    },
    {
     "cell_type": "markdown",
     "metadata": {},
     "source": [
      "## Code\n",
      "\n",
      "The code for the this algorithm can be found in the `src/` directory. \n",
      "\n",
      "### Initialization \n",
      "\n",
      "We begin by loading test data using `src/data.py`.  \n"
     ]
    },
    {
     "cell_type": "code",
     "collapsed": false,
     "input": [
      "from src import data\n",
      "xtrain, xtest, ytrain, ytest = data.load_spambase_test_train()\n",
      "print(\"Number of features: {0}\".format(len(xtrain.columns)))\n",
      "xtrain[xtrain.columns[:5]].describe()"
     ],
     "language": "python",
     "metadata": {},
     "outputs": [
      {
       "output_type": "stream",
       "stream": "stdout",
       "text": [
        "Number of features: 57\n"
       ]
      },
      {
       "html": [
        "<div style=\"max-width:1500px;overflow:auto;\">\n",
        "<table border=\"1\" class=\"dataframe\">\n",
        "  <thead>\n",
        "    <tr style=\"text-align: right;\">\n",
        "      <th></th>\n",
        "      <th>capital_run_length_average</th>\n",
        "      <th>capital_run_length_longest</th>\n",
        "      <th>capital_run_length_total</th>\n",
        "      <th>char_freq_!</th>\n",
        "      <th>char_freq_#</th>\n",
        "    </tr>\n",
        "  </thead>\n",
        "  <tbody>\n",
        "    <tr>\n",
        "      <th>count</th>\n",
        "      <td>3082.000000</td>\n",
        "      <td>3082.000000</td>\n",
        "      <td>3082.000000</td>\n",
        "      <td>3082.000000</td>\n",
        "      <td>3082.000000</td>\n",
        "    </tr>\n",
        "    <tr>\n",
        "      <th>mean</th>\n",
        "      <td>4.899553</td>\n",
        "      <td>52.884491</td>\n",
        "      <td>289.825438</td>\n",
        "      <td>0.276092</td>\n",
        "      <td>0.050973</td>\n",
        "    </tr>\n",
        "    <tr>\n",
        "      <th>std</th>\n",
        "      <td>25.285658</td>\n",
        "      <td>216.191784</td>\n",
        "      <td>609.223593</td>\n",
        "      <td>0.906813</td>\n",
        "      <td>0.496842</td>\n",
        "    </tr>\n",
        "    <tr>\n",
        "      <th>min</th>\n",
        "      <td>1.000000</td>\n",
        "      <td>1.000000</td>\n",
        "      <td>1.000000</td>\n",
        "      <td>0.000000</td>\n",
        "      <td>0.000000</td>\n",
        "    </tr>\n",
        "    <tr>\n",
        "      <th>25%</th>\n",
        "      <td>1.576250</td>\n",
        "      <td>6.000000</td>\n",
        "      <td>34.000000</td>\n",
        "      <td>0.000000</td>\n",
        "      <td>0.000000</td>\n",
        "    </tr>\n",
        "    <tr>\n",
        "      <th>50%</th>\n",
        "      <td>2.275500</td>\n",
        "      <td>14.000000</td>\n",
        "      <td>93.500000</td>\n",
        "      <td>0.000000</td>\n",
        "      <td>0.000000</td>\n",
        "    </tr>\n",
        "    <tr>\n",
        "      <th>75%</th>\n",
        "      <td>3.706750</td>\n",
        "      <td>43.000000</td>\n",
        "      <td>267.000000</td>\n",
        "      <td>0.326000</td>\n",
        "      <td>0.000000</td>\n",
        "    </tr>\n",
        "    <tr>\n",
        "      <th>max</th>\n",
        "      <td>667.000000</td>\n",
        "      <td>9989.000000</td>\n",
        "      <td>10062.000000</td>\n",
        "      <td>32.478000</td>\n",
        "      <td>19.829000</td>\n",
        "    </tr>\n",
        "  </tbody>\n",
        "</table>\n",
        "</div>"
       ],
       "metadata": {},
       "output_type": "pyout",
       "prompt_number": 22,
       "text": [
        "       capital_run_length_average  capital_run_length_longest  \\\n",
        "count                 3082.000000                 3082.000000   \n",
        "mean                     4.899553                   52.884491   \n",
        "std                     25.285658                  216.191784   \n",
        "min                      1.000000                    1.000000   \n",
        "25%                      1.576250                    6.000000   \n",
        "50%                      2.275500                   14.000000   \n",
        "75%                      3.706750                   43.000000   \n",
        "max                    667.000000                 9989.000000   \n",
        "\n",
        "       capital_run_length_total  char_freq_!  char_freq_#  \n",
        "count               3082.000000  3082.000000  3082.000000  \n",
        "mean                 289.825438     0.276092     0.050973  \n",
        "std                  609.223593     0.906813     0.496842  \n",
        "min                    1.000000     0.000000     0.000000  \n",
        "25%                   34.000000     0.000000     0.000000  \n",
        "50%                   93.500000     0.000000     0.000000  \n",
        "75%                  267.000000     0.326000     0.000000  \n",
        "max                10062.000000    32.478000    19.829000  "
       ]
      }
     ],
     "prompt_number": 22
    },
    {
     "cell_type": "markdown",
     "metadata": {},
     "source": [
      "`xtrain` and `ytrain` are the feature vectors and classification labels for the training set. `xtest` and `ytest` make up the test set. There are 57 features in total. \n",
      "\n",
      "We can now initialize and train one of the classifiers from `src/classifier.py`:"
     ]
    },
    {
     "cell_type": "code",
     "collapsed": false,
     "input": [
      "from src import classifier\n",
      "logistic = classifier.logistic()\n",
      "logistic.fit(xtrain, ytrain)\n",
      "logistic.score(xtest, ytest)"
     ],
     "language": "python",
     "metadata": {},
     "outputs": [
      {
       "metadata": {},
       "output_type": "pyout",
       "prompt_number": 23,
       "text": [
        "0.92626728110599077"
       ]
      }
     ],
     "prompt_number": 23
    },
    {
     "cell_type": "markdown",
     "metadata": {},
     "source": [
      "The trained classfier has a precision of 93% on the test set. \n",
      "\n",
      "To create an anticlassifier we need the specifications which define each of the features in the vectors we will generate. The file `src/features.py` examines the spambase training set and generates these specifications for us:"
     ]
    },
    {
     "cell_type": "code",
     "collapsed": false,
     "input": [
      "from pprint import pprint\n",
      "from src import features\n",
      "feature_specs = features.SPAMBASE_FEATURE_SPECS\n",
      "pprint(feature_specs[:5])"
     ],
     "language": "python",
     "metadata": {},
     "outputs": [
      {
       "output_type": "stream",
       "stream": "stdout",
       "text": [
        "[{'max': 667.0,\n",
        "  'min': 1.0,\n",
        "  'name': 'capital_run_length_average',\n",
        "  'type': <type 'float'>},\n",
        " {'max': 9989,\n",
        "  'min': 1,\n",
        "  'name': 'capital_run_length_longest',\n",
        "  'type': <type 'int'>},\n",
        " {'max': 10062,\n",
        "  'min': 1,\n",
        "  'name': 'capital_run_length_total',\n",
        "  'type': <type 'int'>},\n",
        " {'max': 32.478000000000002,\n",
        "  'min': 0.0,\n",
        "  'name': 'char_freq_!',\n",
        "  'type': <type 'float'>},\n",
        " {'max': 19.829000000000001,\n",
        "  'min': 0.0,\n",
        "  'name': 'char_freq_#',\n",
        "  'type': <type 'float'>}]\n"
       ]
      }
     ],
     "prompt_number": 24
    },
    {
     "cell_type": "markdown",
     "metadata": {},
     "source": [
      "The feature specs define maximum values, minimum values, and data types for each feature. \n",
      "\n",
      "With this data in hand we can create the anti-classifier using the file `src/anticlassifier.py`:"
     ]
    },
    {
     "cell_type": "code",
     "collapsed": false,
     "input": [
      "from src import anticlassifier\n",
      "anti = anticlassifier.AntiClassifier(logistic, feature_specs)"
     ],
     "language": "python",
     "metadata": {},
     "outputs": [],
     "prompt_number": 25
    },
    {
     "cell_type": "markdown",
     "metadata": {},
     "source": [
      "Upon initialization the `AntiClassifier` object randomly creates 10,000 feature vectors using the provided specifications. It sends these feature vectors to the classifier and records the result. It then uses this information to train it's own anti-classifier. "
     ]
    },
    {
     "cell_type": "code",
     "collapsed": false,
     "input": [
      "anti.anticlassifier"
     ],
     "language": "python",
     "metadata": {},
     "outputs": [
      {
       "metadata": {},
       "output_type": "pyout",
       "prompt_number": 26,
       "text": [
        "Pipeline(steps=[('transform', Pipeline(steps=[('scaler', StandardScaler(copy=True, with_mean=True, with_std=True))])), ('logistic', LogisticRegression(C=1.0, class_weight=None, dual=False, fit_intercept=True,\n",
        "          intercept_scaling=1, max_iter=100, multi_class='ovr',\n",
        "          penalty='l2', random_state=None, solver='liblinear', tol=0.0001,\n",
        "          verbose=0))])"
       ]
      }
     ],
     "prompt_number": 26
    },
    {
     "cell_type": "markdown",
     "metadata": {},
     "source": [
      "The parameters of this anti-classifier can be examined:"
     ]
    },
    {
     "cell_type": "code",
     "collapsed": false,
     "input": [
      "anti._lg_coefs()"
     ],
     "language": "python",
     "metadata": {},
     "outputs": [
      {
       "metadata": {},
       "output_type": "pyout",
       "prompt_number": 27,
       "text": [
        "array([ -4.98052659e-01,   5.23268246e+00,   6.40543249e-01,\n",
        "         7.62245944e-01,   3.52366262e+00,   2.54088778e+00,\n",
        "        -1.24583208e-01,  -6.50131780e-01,  -1.07940611e+00,\n",
        "         1.02099146e+00,  -3.80636552e-01,   1.43157879e+00,\n",
        "        -1.30140821e+00,   1.96144454e-01,  -2.23979023e+00,\n",
        "         3.60203392e-01,  -1.87753832e-01,   2.94056598e-01,\n",
        "         8.21914275e-04,   5.06588960e-01,  -1.52421544e+00,\n",
        "         1.24655678e+00,  -2.76547131e+00,  -1.43593615e+00,\n",
        "        -1.40848124e-01,  -1.90340890e+00,   8.48238234e-02,\n",
        "         5.32104296e-01,   1.88282755e+00,  -3.25031248e+00,\n",
        "        -2.55279089e+00,  -9.83302826e-01,   4.64103190e-01,\n",
        "        -1.43359306e+00,  -9.52580103e-01,   4.93751441e-02,\n",
        "        -1.47597223e-01,  -1.58722183e+00,   2.57678049e-01,\n",
        "         2.49567791e-01,  -2.85832508e-01,   3.19498864e-01,\n",
        "         3.25703111e-01,  -4.93743940e-01,   5.59943610e-02,\n",
        "        -8.32371449e-01,  -2.04919251e+00,  -1.54912218e+00,\n",
        "        -6.34085767e-02,   1.28958356e+00,  -3.01419385e-02,\n",
        "        -3.78861811e-01,   4.68448812e-01,   3.50241037e-02,\n",
        "        -1.03391778e-01,   1.05062389e-01,   2.79397582e-01])"
       ]
      }
     ],
     "prompt_number": 27
    },
    {
     "cell_type": "markdown",
     "metadata": {},
     "source": [
      "### Generating Feature Vectors\n",
      "\n",
      "The `get()` method is used to generate a feature vector which minimizes the anti-classifier's decision function under a set of provided constraints. We can generate such feature vector with no constraints:"
     ]
    },
    {
     "cell_type": "code",
     "collapsed": false,
     "input": [
      "v = anti.get([])\n",
      "print(v)"
     ],
     "language": "python",
     "metadata": {},
     "outputs": [
      {
       "output_type": "stream",
       "stream": "stdout",
       "text": [
        "[  6.32876696e+02   7.86686419e+03   7.94616641e+03   1.61047862e+01\n",
        "   1.52801261e+01   4.30153773e+00   4.88193336e+00   2.17458926e+00\n",
        "   2.04273012e+00   4.86365458e+00   4.51117068e+00   3.70397329e+01\n",
        "   2.37715637e+00   7.22775150e+00   1.08456394e+01   2.91130588e+00\n",
        "   7.11900545e+00   1.44469115e+00   2.55072964e+00   5.25848409e+00\n",
        "   9.78110173e+00   9.11751950e+00   3.57538118e+00   1.89472530e+01\n",
        "   2.35781081e+00   7.64875215e+00   2.54360893e+00   8.61467979e+00\n",
        "   1.63715981e+01   3.44953273e+01   2.08312782e+01   4.16376041e+00\n",
        "   5.58969117e+00   7.03264176e+00   3.54192198e+00   9.11629776e+00\n",
        "   2.16319024e+00   1.10858537e+01   6.17564778e+00   2.02627895e+00\n",
        "   1.77124864e+00   6.66000888e+00   2.94837829e+00   4.16310458e+00\n",
        "   2.80069789e+00   5.69755051e+00   8.34567948e+00   1.89059568e+01\n",
        "   1.86085509e+00   3.60649844e+00   5.81199346e+00   1.05841994e+00\n",
        "   4.01873893e+00   2.37324858e+00   4.90744524e+00   1.48042355e+01\n",
        "   6.54390181e+00]\n"
       ]
      }
     ],
     "prompt_number": 28
    },
    {
     "cell_type": "markdown",
     "metadata": {},
     "source": [
      "By passing this generated feature vector to the classifier we see that it passes through, as expected (a zero value indicates \"not-spam\" in the spambase data set). "
     ]
    },
    {
     "cell_type": "code",
     "collapsed": false,
     "input": [
      "logistic.predict(v)"
     ],
     "language": "python",
     "metadata": {},
     "outputs": [
      {
       "metadata": {},
       "output_type": "pyout",
       "prompt_number": 29,
       "text": [
        "array([0])"
       ]
      }
     ],
     "prompt_number": 29
    },
    {
     "cell_type": "markdown",
     "metadata": {},
     "source": [
      "We can also provide a set of constraints to get a different feature vector. "
     ]
    },
    {
     "cell_type": "code",
     "collapsed": false,
     "input": [
      "pprint(features.SPAMBASE_CONSTRAINTS)"
     ],
     "language": "python",
     "metadata": {},
     "outputs": [
      {
       "output_type": "stream",
       "stream": "stdout",
       "text": [
        "[{'fun': <function <lambda> at 0x10e4e1320>,\n",
        "  'init': <function <lambda> at 0x10e4e1500>,\n",
        "  'name': 'capital_run_length_average_gt_10',\n",
        "  'type': 'ineq'},\n",
        " {'fun': <function <lambda> at 0x10e4e15f0>,\n",
        "  'init': <function <lambda> at 0x10e4e1668>,\n",
        "  'name': 'capital_run_length_longest_gt_5',\n",
        "  'type': 'ineq'}]\n"
       ]
      }
     ],
     "prompt_number": 30
    },
    {
     "cell_type": "code",
     "collapsed": false,
     "input": [
      "v = anti.get(features.SPAMBASE_CONSTRAINTS)\n",
      "print(v)"
     ],
     "language": "python",
     "metadata": {},
     "outputs": [
      {
       "output_type": "stream",
       "stream": "stdout",
       "text": [
        "[  2.36233063e+03   1.93053240e+04   8.76345550e+03   2.24352679e+01\n",
        "   9.90080548e+00   4.04925132e+00   6.74581944e+00   2.29011427e+00\n",
        "   4.02805023e+00   4.91678525e+00   3.57936730e+00   3.72541690e+01\n",
        "   2.63841976e+00   7.79326707e+00   1.43466179e+01   2.88318440e+00\n",
        "   8.90562929e+00   1.45032751e+00   2.57410435e+00   5.59738277e+00\n",
        "   5.61883920e+00   1.32352237e+01   7.52850414e+00   1.02243575e+01\n",
        "   2.40586764e+00   1.47191584e+01   4.56427563e+00   8.61467979e+00\n",
        "   9.92254814e+00   2.85816830e+01   1.24189644e+01   4.42336180e+00\n",
        "   5.58969117e+00   1.01648010e+01   3.31301347e+00   9.14283879e+00\n",
        "   2.23945802e+00   8.95897835e+00   6.17564778e+00   2.45925997e+00\n",
        "   1.91435422e+00   4.96092087e+00   2.96599641e+00   4.38881741e+00\n",
        "   5.21007527e+00   6.25213777e+00   9.69970063e+00   1.10291996e+01\n",
        "   1.33994543e+00   3.60649844e+00   8.58307071e+00   1.09304635e+00\n",
        "   2.37084324e+00   3.51500248e+00   9.15841099e+00   9.42965211e+00\n",
        "   1.05643314e+01]\n"
       ]
      }
     ],
     "prompt_number": 31
    },
    {
     "cell_type": "code",
     "collapsed": false,
     "input": [
      "logistic.predict(v)"
     ],
     "language": "python",
     "metadata": {},
     "outputs": [
      {
       "metadata": {},
       "output_type": "pyout",
       "prompt_number": 32,
       "text": [
        "array([0])"
       ]
      }
     ],
     "prompt_number": 32
    },
    {
     "cell_type": "markdown",
     "metadata": {},
     "source": [
      "## Testing the Anti-Classifier\n",
      "\n",
      "To test the performance of the anti-classifier we proceed as follows:\n",
      "\n",
      "- Determine the most significant features in classification\n",
      "- Constrain these features one by one and test how well the anti-classifier performs\n",
      "\n",
      "This process is implemented in the `src/evaluate.py` file. "
     ]
    },
    {
     "cell_type": "code",
     "collapsed": false,
     "input": [
      "from src import evaluate"
     ],
     "language": "python",
     "metadata": {},
     "outputs": [],
     "prompt_number": 33
    },
    {
     "cell_type": "markdown",
     "metadata": {},
     "source": [
      "The most significant features are determined by examining the p-values of an ANOVA hypothesis test. These features are then constrained to their maximum values to determine how well the anti-classifier performs. \n",
      "\n",
      "We can perform this test for several different target classifiers. \n",
      "\n",
      "### Logistical Regression Classifier\n",
      "\n",
      "The logistical regression classifier was already initialized, above. To test it we pass it to the `evaluate.evaluate()` function. "
     ]
    },
    {
     "cell_type": "code",
     "collapsed": false,
     "input": [
      "logistic_perf = evaluate.evaluate(logistic, constrain=\"max\")\n",
      "logistic_perf.head(10)"
     ],
     "language": "python",
     "metadata": {},
     "outputs": [
      {
       "html": [
        "<div style=\"max-width:1500px;overflow:auto;\">\n",
        "<table border=\"1\" class=\"dataframe\">\n",
        "  <thead>\n",
        "    <tr style=\"text-align: right;\">\n",
        "      <th></th>\n",
        "      <th>significant_features_constrained</th>\n",
        "      <th>anticlassifier_score</th>\n",
        "      <th>classifier_score</th>\n",
        "    </tr>\n",
        "  </thead>\n",
        "  <tbody>\n",
        "    <tr>\n",
        "      <th>1</th>\n",
        "      <td>0</td>\n",
        "      <td>0.983</td>\n",
        "      <td>0.926267</td>\n",
        "    </tr>\n",
        "    <tr>\n",
        "      <th>2</th>\n",
        "      <td>1</td>\n",
        "      <td>0.567</td>\n",
        "      <td>0.926267</td>\n",
        "    </tr>\n",
        "    <tr>\n",
        "      <th>3</th>\n",
        "      <td>2</td>\n",
        "      <td>0.263</td>\n",
        "      <td>0.926267</td>\n",
        "    </tr>\n",
        "    <tr>\n",
        "      <th>4</th>\n",
        "      <td>3</td>\n",
        "      <td>0.000</td>\n",
        "      <td>0.926267</td>\n",
        "    </tr>\n",
        "    <tr>\n",
        "      <th>5</th>\n",
        "      <td>4</td>\n",
        "      <td>0.000</td>\n",
        "      <td>0.926267</td>\n",
        "    </tr>\n",
        "    <tr>\n",
        "      <th>6</th>\n",
        "      <td>5</td>\n",
        "      <td>0.000</td>\n",
        "      <td>0.926267</td>\n",
        "    </tr>\n",
        "    <tr>\n",
        "      <th>7</th>\n",
        "      <td>6</td>\n",
        "      <td>0.000</td>\n",
        "      <td>0.926267</td>\n",
        "    </tr>\n",
        "    <tr>\n",
        "      <th>8</th>\n",
        "      <td>7</td>\n",
        "      <td>0.000</td>\n",
        "      <td>0.926267</td>\n",
        "    </tr>\n",
        "    <tr>\n",
        "      <th>9</th>\n",
        "      <td>8</td>\n",
        "      <td>0.000</td>\n",
        "      <td>0.926267</td>\n",
        "    </tr>\n",
        "    <tr>\n",
        "      <th>10</th>\n",
        "      <td>9</td>\n",
        "      <td>0.000</td>\n",
        "      <td>0.926267</td>\n",
        "    </tr>\n",
        "  </tbody>\n",
        "</table>\n",
        "</div>"
       ],
       "metadata": {},
       "output_type": "pyout",
       "prompt_number": 34,
       "text": [
        "    significant_features_constrained  anticlassifier_score  classifier_score\n",
        "1                                  0                 0.983          0.926267\n",
        "2                                  1                 0.567          0.926267\n",
        "3                                  2                 0.263          0.926267\n",
        "4                                  3                 0.000          0.926267\n",
        "5                                  4                 0.000          0.926267\n",
        "6                                  5                 0.000          0.926267\n",
        "7                                  6                 0.000          0.926267\n",
        "8                                  7                 0.000          0.926267\n",
        "9                                  8                 0.000          0.926267\n",
        "10                                 9                 0.000          0.926267"
       ]
      }
     ],
     "prompt_number": 34
    },
    {
     "cell_type": "code",
     "collapsed": false,
     "input": [
      "plt.plot(logistic_perf[\"significant_features_constrained\"], logistic_perf[\"anticlassifier_score\"])\n",
      "plt.xlabel(\"Significant Features Constrained\")\n",
      "plt.ylabel(\"Anti-Classifier Score\")\n",
      "plt.show()"
     ],
     "language": "python",
     "metadata": {},
     "outputs": [
      {
       "metadata": {},
       "output_type": "display_data",
       "png": "[encoded data removed]",
       "text": [
        "<matplotlib.figure.Figure at 0x10da05810>"
       ]
      }
     ],
     "prompt_number": 35
    },
    {
     "cell_type": "markdown",
     "metadata": {},
     "source": [
      "By maximizing just 3 of the 57 features used by the classifier we become completely unable to generate vectors which are accepted. Most machine-learning problem spaces have only a few features which dominate the output so this behaviour is expected. "
     ]
    },
    {
     "cell_type": "markdown",
     "metadata": {},
     "source": [
      "### The Naive Bayes Classifier\n",
      "\n",
      "Next we target a naive bayes classifier and perform the same test. "
     ]
    },
    {
     "cell_type": "code",
     "collapsed": false,
     "input": [
      "bayes = classifier.naive_bayes()\n",
      "bayes.fit(xtrain, ytrain)\n",
      "print(bayes.score(xtest, ytest))"
     ],
     "language": "python",
     "metadata": {},
     "outputs": [
      {
       "output_type": "stream",
       "stream": "stdout",
       "text": [
        "0.810401579987\n"
       ]
      }
     ],
     "prompt_number": 36
    },
    {
     "cell_type": "code",
     "collapsed": false,
     "input": [
      "bayes_perf = evaluate.evaluate(bayes, constrain=\"max\")\n",
      "bayes_perf.head(10)"
     ],
     "language": "python",
     "metadata": {},
     "outputs": [
      {
       "html": [
        "<div style=\"max-width:1500px;overflow:auto;\">\n",
        "<table border=\"1\" class=\"dataframe\">\n",
        "  <thead>\n",
        "    <tr style=\"text-align: right;\">\n",
        "      <th></th>\n",
        "      <th>significant_features_constrained</th>\n",
        "      <th>anticlassifier_score</th>\n",
        "      <th>classifier_score</th>\n",
        "    </tr>\n",
        "  </thead>\n",
        "  <tbody>\n",
        "    <tr>\n",
        "      <th>1</th>\n",
        "      <td>0</td>\n",
        "      <td>1</td>\n",
        "      <td>0.810402</td>\n",
        "    </tr>\n",
        "    <tr>\n",
        "      <th>2</th>\n",
        "      <td>1</td>\n",
        "      <td>1</td>\n",
        "      <td>0.810402</td>\n",
        "    </tr>\n",
        "    <tr>\n",
        "      <th>3</th>\n",
        "      <td>2</td>\n",
        "      <td>1</td>\n",
        "      <td>0.810402</td>\n",
        "    </tr>\n",
        "    <tr>\n",
        "      <th>4</th>\n",
        "      <td>3</td>\n",
        "      <td>1</td>\n",
        "      <td>0.810402</td>\n",
        "    </tr>\n",
        "    <tr>\n",
        "      <th>5</th>\n",
        "      <td>4</td>\n",
        "      <td>1</td>\n",
        "      <td>0.810402</td>\n",
        "    </tr>\n",
        "    <tr>\n",
        "      <th>6</th>\n",
        "      <td>5</td>\n",
        "      <td>1</td>\n",
        "      <td>0.810402</td>\n",
        "    </tr>\n",
        "    <tr>\n",
        "      <th>7</th>\n",
        "      <td>6</td>\n",
        "      <td>1</td>\n",
        "      <td>0.810402</td>\n",
        "    </tr>\n",
        "    <tr>\n",
        "      <th>8</th>\n",
        "      <td>7</td>\n",
        "      <td>1</td>\n",
        "      <td>0.810402</td>\n",
        "    </tr>\n",
        "    <tr>\n",
        "      <th>9</th>\n",
        "      <td>8</td>\n",
        "      <td>1</td>\n",
        "      <td>0.810402</td>\n",
        "    </tr>\n",
        "    <tr>\n",
        "      <th>10</th>\n",
        "      <td>9</td>\n",
        "      <td>1</td>\n",
        "      <td>0.810402</td>\n",
        "    </tr>\n",
        "  </tbody>\n",
        "</table>\n",
        "</div>"
       ],
       "metadata": {},
       "output_type": "pyout",
       "prompt_number": 37,
       "text": [
        "    significant_features_constrained  anticlassifier_score  classifier_score\n",
        "1                                  0                     1          0.810402\n",
        "2                                  1                     1          0.810402\n",
        "3                                  2                     1          0.810402\n",
        "4                                  3                     1          0.810402\n",
        "5                                  4                     1          0.810402\n",
        "6                                  5                     1          0.810402\n",
        "7                                  6                     1          0.810402\n",
        "8                                  7                     1          0.810402\n",
        "9                                  8                     1          0.810402\n",
        "10                                 9                     1          0.810402"
       ]
      }
     ],
     "prompt_number": 37
    },
    {
     "cell_type": "code",
     "collapsed": false,
     "input": [
      "plt.plot(bayes_perf[\"significant_features_constrained\"], bayes_perf[\"anticlassifier_score\"])\n",
      "plt.xlabel(\"Significant Features Constrained\")\n",
      "plt.ylabel(\"Anti-Classifier Score\")\n",
      "plt.show()"
     ],
     "language": "python",
     "metadata": {},
     "outputs": [
      {
       "metadata": {},
       "output_type": "display_data",
       "png": "[encoded data removed]",
       "text": [
        "<matplotlib.figure.Figure at 0x1102d3a50>"
       ]
      }
     ],
     "prompt_number": 38
    },
    {
     "cell_type": "markdown",
     "metadata": {},
     "source": [
      "In this case it appears that the naive bayes classifier's precision was so low that the anti-classifier was always able to generate a vector that was accepted. "
     ]
    },
    {
     "cell_type": "markdown",
     "metadata": {},
     "source": [
      "### Support Vector Machine\n",
      "\n",
      "Finally we target a support vector machine. "
     ]
    },
    {
     "cell_type": "code",
     "collapsed": false,
     "input": [
      "svm = classifier.svm()\n",
      "svm.fit(xtrain, ytrain)\n",
      "print(svm.score(xtest, ytest))"
     ],
     "language": "python",
     "metadata": {},
     "outputs": [
      {
       "output_type": "stream",
       "stream": "stdout",
       "text": [
        "0.926267281106\n"
       ]
      }
     ],
     "prompt_number": 39
    },
    {
     "cell_type": "code",
     "collapsed": false,
     "input": [
      "svm_perf = evaluate.evaluate(svm, constrain=\"max\")\n",
      "svm_perf.head(10)"
     ],
     "language": "python",
     "metadata": {},
     "outputs": [
      {
       "html": [
        "<div style=\"max-width:1500px;overflow:auto;\">\n",
        "<table border=\"1\" class=\"dataframe\">\n",
        "  <thead>\n",
        "    <tr style=\"text-align: right;\">\n",
        "      <th></th>\n",
        "      <th>significant_features_constrained</th>\n",
        "      <th>anticlassifier_score</th>\n",
        "      <th>classifier_score</th>\n",
        "    </tr>\n",
        "  </thead>\n",
        "  <tbody>\n",
        "    <tr>\n",
        "      <th>1</th>\n",
        "      <td>0</td>\n",
        "      <td>0.995</td>\n",
        "      <td>0.925609</td>\n",
        "    </tr>\n",
        "    <tr>\n",
        "      <th>2</th>\n",
        "      <td>1</td>\n",
        "      <td>0.661</td>\n",
        "      <td>0.925609</td>\n",
        "    </tr>\n",
        "    <tr>\n",
        "      <th>3</th>\n",
        "      <td>2</td>\n",
        "      <td>0.482</td>\n",
        "      <td>0.925609</td>\n",
        "    </tr>\n",
        "    <tr>\n",
        "      <th>4</th>\n",
        "      <td>3</td>\n",
        "      <td>0.003</td>\n",
        "      <td>0.925609</td>\n",
        "    </tr>\n",
        "    <tr>\n",
        "      <th>5</th>\n",
        "      <td>4</td>\n",
        "      <td>0.000</td>\n",
        "      <td>0.925609</td>\n",
        "    </tr>\n",
        "    <tr>\n",
        "      <th>6</th>\n",
        "      <td>5</td>\n",
        "      <td>0.000</td>\n",
        "      <td>0.925609</td>\n",
        "    </tr>\n",
        "    <tr>\n",
        "      <th>7</th>\n",
        "      <td>6</td>\n",
        "      <td>0.000</td>\n",
        "      <td>0.925609</td>\n",
        "    </tr>\n",
        "    <tr>\n",
        "      <th>8</th>\n",
        "      <td>7</td>\n",
        "      <td>0.000</td>\n",
        "      <td>0.925609</td>\n",
        "    </tr>\n",
        "    <tr>\n",
        "      <th>9</th>\n",
        "      <td>8</td>\n",
        "      <td>0.000</td>\n",
        "      <td>0.925609</td>\n",
        "    </tr>\n",
        "    <tr>\n",
        "      <th>10</th>\n",
        "      <td>9</td>\n",
        "      <td>0.000</td>\n",
        "      <td>0.925609</td>\n",
        "    </tr>\n",
        "  </tbody>\n",
        "</table>\n",
        "</div>"
       ],
       "metadata": {},
       "output_type": "pyout",
       "prompt_number": 40,
       "text": [
        "    significant_features_constrained  anticlassifier_score  classifier_score\n",
        "1                                  0                 0.995          0.925609\n",
        "2                                  1                 0.661          0.925609\n",
        "3                                  2                 0.482          0.925609\n",
        "4                                  3                 0.003          0.925609\n",
        "5                                  4                 0.000          0.925609\n",
        "6                                  5                 0.000          0.925609\n",
        "7                                  6                 0.000          0.925609\n",
        "8                                  7                 0.000          0.925609\n",
        "9                                  8                 0.000          0.925609\n",
        "10                                 9                 0.000          0.925609"
       ]
      }
     ],
     "prompt_number": 40
    },
    {
     "cell_type": "code",
     "collapsed": false,
     "input": [
      "plt.plot(svm_perf[\"significant_features_constrained\"], svm_perf[\"anticlassifier_score\"])\n",
      "plt.xlabel(\"Significant Features Constrained\")\n",
      "plt.ylabel(\"Anti-Classifier Score\")\n",
      "plt.show()"
     ],
     "language": "python",
     "metadata": {},
     "outputs": [
      {
       "metadata": {},
       "output_type": "display_data",
       "png": "[encoded data removed]",
       "text": [
        "<matplotlib.figure.Figure at 0x10e51fcd0>"
       ]
      }
     ],
     "prompt_number": 41
    },
    {
     "cell_type": "markdown",
     "metadata": {},
     "source": [
      "Again, the three most significant features determine how well the anti-classifier performs. "
     ]
    },
    {
     "cell_type": "markdown",
     "metadata": {},
     "source": [
      "\n",
      "\n",
      "## Conclusions\n",
      "\n",
      "We've found that a small number of features are overwhelmingly significant in determining whether or not we can \"beat\" a classifier. If the classifier is properly trained then we must know which features are most significant if we are to have any hope of beating it. \n",
      "\n",
      "Furthermore, if we are forced to constrain ourselves to a sub-space of features that the classifier is trained to detect then we also have little hope to beat it. \n",
      "\n",
      "This behaviour is consistent with a pattern seen elsewhere in machine learning and data science. Most problem spaces have only a few features which dominate the output behaviour of classification algorithms. Finding and exploiting these features is the most critical part of building a classification pipeline. \n",
      "\n",
      "This limits the usefulness of the anti-classifier approach since we must know before building the anti-classifier what the most significant features are. \n",
      "\n",
      "Nevertheless this was an interesting exercise and a good way of learning about how important feature selection is. "
     ]
    }
   ],
   "metadata": {}
  }
 ]
}