{
 "metadata": {
  "name": ""
 },
 "nbformat": 3,
 "nbformat_minor": 0,
 "worksheets": [
  {
   "cells": [
    {
     "cell_type": "code",
     "collapsed": false,
     "input": [
      "import matplotlib\n",
      "import matplotlib.pyplot as plt\n",
      "%matplotlib inline  "
     ],
     "language": "python",
     "metadata": {},
     "outputs": [],
     "prompt_number": 1
    },
    {
     "cell_type": "markdown",
     "metadata": {},
     "source": [
      "# Beating Classifiers\n",
      "\n",
      "### Please Note\n",
      "\n",
      "I am not a spammer! I've studied machine learning and classification over the last year and became interested in the topic. I've always thought that a good way to learn about how something works is to break it. The desire to break classification systems in order to learn about them is what drove me to work on this project. \n",
      "\n",
      "## Introduction\n",
      "\n",
      "Imagine we are sending messages to a classifier for which we can only observe the input features and the classification result. For example: \n",
      "\n",
      "- Sending messages to an email inbox where they are filtered by a spam classifier. \n",
      "- Asking bots to scrape a website where they are filtered by a bot detection algorithm. \n",
      "\n",
      "In these cases we can have access to the data which is sent to the classifier and we can find some way of getting the classification result.\n",
      "\n",
      "Using this information, we want to devise a method that can beat the classifier. \"Beating the classifier\" means crafting feature vectors which:\n",
      "\n",
      "- Satisify some requirements we define, and \n",
      "- Are not rejected by the classifier\n",
      "\n",
      "## Preliminaries\n",
      "\n",
      "### Prerequisites\n",
      "\n",
      "- Familiarity with machine learning techniques and terminology, e.g. \"classifier\", \"training set\", etc. \n",
      "- Familiarity with the Logistical Regresssion Classifier specifically\n",
      "\n",
      "### Definitions\n",
      "\n",
      "- The Classifier: The classifier we are trying to beat\n",
      "- The Anti-Classifier: The algorithm we write to try and beat the classifier\n",
      "- Message: The raw message / object that we is constructed by the anti-classifier and sent to the classifier\n",
      "- Feature Vector: A vector of features extracted from the message\n",
      "- Feature Specificiations: The data type, max / min value and name of each variable entry in the feature vector\n",
      "- Feature Contraints: A set of requirements we want our feature vector to satisfy while still passing through the classifier\n",
      "\n",
      "## General Approach\n",
      "\n",
      "We tackle this problem by building our own anti-classifier which learns the behaviour of the target classifier. By manipulating the decision function of this anti-classifier we should be able craft feature vectors which pass through the classifier. \n",
      "\n",
      "We proceed as follows:\n",
      "\n",
      "- Stage One: Train the Anti-Classifier\n",
      "\n",
      "    1. Define feature specifications, i.e. name, max value, min value, data type for each feature used by the classifier\n",
      "    1. Randomly generate a set of intial feature vectors that conform to the specifications\n",
      "    1. Create a logisitical regression classifier to use as our anti-classifier. \n",
      "    1. Create messages out of the randomly generated set of feature vectors and send these messages to the classifier \n",
      "    1. Record the result for each message\n",
      "    1. Use the results to train the anti-classifier\n",
      "    \n",
      "At this point, the anti-classifier is trained on which messages pass through the classifier. \n",
      "\n",
      "- Stage Two: Use the Anti-Classifier\n",
      "    \n",
      "    1. Create feature constraints, i.e. a range of values that features must fall into\n",
      "    1. Generate a feature vector that minimizes the decision function of the anti-classifier under those contraints\n",
      "    1. Output the result\n",
      "\n",
      "The result is a feature vector which we expect to not be caught by the classifier. \n",
      "\n",
      "\n",
      "### The Logistical Regression Classifier\n",
      "\n",
      "Our approach requires us to choose a classification algorithm whose decision function can be minimized under contsraints we define. The logistical regression classifier uses the sigmoid as its decision function:\n",
      "\n",
      "$$ h(x) = 1 / (1 + e^{ \\vec{\\theta} \\cdot \\vec{x} }) \\ \\ \\vec{x}, \\vec{\\theta}, \\in \\mathbb{R}^n $$ \n",
      "\n",
      "This function is:\n",
      "\n",
      "- A continous scalar-valued function\n",
      "- Continuously differentiable in $ \\mathbb{R}^n $\n",
      "\n",
      "These properties will allow us to use some out-of-the box optimization libraries to minimize this function. Therefore we build our anti-classifier on logistic regression. \n",
      "\n",
      "\n",
      "### Simplifications\n",
      "\n",
      "One of the most complex and error-prone portions of this approach would be a translation layer between feature vectors and messages. A translation of `feature vector -> message` must be carried out by the anti-classifier. The classifier we are trying to beat must perform a translation in the other direction, `message -> feature vector`.\n",
      "\n",
      "This presents us with several difficulties:\n",
      "\n",
      "- We are not allowed to know the Classifier Translation step\n",
      "- The Anti-Classifier translation layer is specific to each use case\n",
      "- We risk missing features that are significant to the classifier\n",
      "\n",
      "For the purposes of this document we ignore these complications and concentrate on the core algorithm. Do do this, we simply grant the the anti-classifier access to the feature specifications of the classifier. The feature vectors will be generated and passed between the two components with no translation. We avoid sharing too much information by not giving the anti-classifier access to the classifier parameters or the classifier training set. \n",
      "\n",
      "### Test Data\n",
      "\n",
      "For this project we use the [Spambase Data Set](https://archive.ics.uci.edu/ml/datasets/Spambase) from the [UCI Machine Learning Repository](https://archive.ics.uci.edu/ml/index.html).\n",
      "\n"
     ]
    },
    {
     "cell_type": "markdown",
     "metadata": {},
     "source": [
      "## Code\n",
      "\n",
      "The code for the this algorithm can be found in the `src/` directory. \n",
      "\n",
      "### Initialization \n",
      "\n",
      "We begin by loading test data using `src/data.py`.  \n"
     ]
    },
    {
     "cell_type": "code",
     "collapsed": false,
     "input": [
      "from src import data\n",
      "xtrain, xtest, ytrain, ytest = data.load_spambase_test_train()\n",
      "print(\"Number of features: {0}\".format(len(xtrain.columns)))\n",
      "xtrain[xtrain.columns[:5]].describe()"
     ],
     "language": "python",
     "metadata": {},
     "outputs": [
      {
       "output_type": "stream",
       "stream": "stdout",
       "text": [
        "Number of features: 57\n"
       ]
      },
      {
       "html": [
        "<div style=\"max-width:1500px;overflow:auto;\">\n",
        "<table border=\"1\" class=\"dataframe\">\n",
        "  <thead>\n",
        "    <tr style=\"text-align: right;\">\n",
        "      <th></th>\n",
        "      <th>capital_run_length_average</th>\n",
        "      <th>capital_run_length_longest</th>\n",
        "      <th>capital_run_length_total</th>\n",
        "      <th>char_freq_!</th>\n",
        "      <th>char_freq_#</th>\n",
        "    </tr>\n",
        "  </thead>\n",
        "  <tbody>\n",
        "    <tr>\n",
        "      <th>count</th>\n",
        "      <td>3082.000000</td>\n",
        "      <td>3082.000000</td>\n",
        "      <td>3082.000000</td>\n",
        "      <td>3082.000000</td>\n",
        "      <td>3082.000000</td>\n",
        "    </tr>\n",
        "    <tr>\n",
        "      <th>mean</th>\n",
        "      <td>4.899553</td>\n",
        "      <td>52.884491</td>\n",
        "      <td>289.825438</td>\n",
        "      <td>0.276092</td>\n",
        "      <td>0.050973</td>\n",
        "    </tr>\n",
        "    <tr>\n",
        "      <th>std</th>\n",
        "      <td>25.285658</td>\n",
        "      <td>216.191784</td>\n",
        "      <td>609.223593</td>\n",
        "      <td>0.906813</td>\n",
        "      <td>0.496842</td>\n",
        "    </tr>\n",
        "    <tr>\n",
        "      <th>min</th>\n",
        "      <td>1.000000</td>\n",
        "      <td>1.000000</td>\n",
        "      <td>1.000000</td>\n",
        "      <td>0.000000</td>\n",
        "      <td>0.000000</td>\n",
        "    </tr>\n",
        "    <tr>\n",
        "      <th>25%</th>\n",
        "      <td>1.576250</td>\n",
        "      <td>6.000000</td>\n",
        "      <td>34.000000</td>\n",
        "      <td>0.000000</td>\n",
        "      <td>0.000000</td>\n",
        "    </tr>\n",
        "    <tr>\n",
        "      <th>50%</th>\n",
        "      <td>2.275500</td>\n",
        "      <td>14.000000</td>\n",
        "      <td>93.500000</td>\n",
        "      <td>0.000000</td>\n",
        "      <td>0.000000</td>\n",
        "    </tr>\n",
        "    <tr>\n",
        "      <th>75%</th>\n",
        "      <td>3.706750</td>\n",
        "      <td>43.000000</td>\n",
        "      <td>267.000000</td>\n",
        "      <td>0.326000</td>\n",
        "      <td>0.000000</td>\n",
        "    </tr>\n",
        "    <tr>\n",
        "      <th>max</th>\n",
        "      <td>667.000000</td>\n",
        "      <td>9989.000000</td>\n",
        "      <td>10062.000000</td>\n",
        "      <td>32.478000</td>\n",
        "      <td>19.829000</td>\n",
        "    </tr>\n",
        "  </tbody>\n",
        "</table>\n",
        "</div>"
       ],
       "metadata": {},
       "output_type": "pyout",
       "prompt_number": 2,
       "text": [
        "       capital_run_length_average  capital_run_length_longest  \\\n",
        "count                 3082.000000                 3082.000000   \n",
        "mean                     4.899553                   52.884491   \n",
        "std                     25.285658                  216.191784   \n",
        "min                      1.000000                    1.000000   \n",
        "25%                      1.576250                    6.000000   \n",
        "50%                      2.275500                   14.000000   \n",
        "75%                      3.706750                   43.000000   \n",
        "max                    667.000000                 9989.000000   \n",
        "\n",
        "       capital_run_length_total  char_freq_!  char_freq_#  \n",
        "count               3082.000000  3082.000000  3082.000000  \n",
        "mean                 289.825438     0.276092     0.050973  \n",
        "std                  609.223593     0.906813     0.496842  \n",
        "min                    1.000000     0.000000     0.000000  \n",
        "25%                   34.000000     0.000000     0.000000  \n",
        "50%                   93.500000     0.000000     0.000000  \n",
        "75%                  267.000000     0.326000     0.000000  \n",
        "max                10062.000000    32.478000    19.829000  "
       ]
      }
     ],
     "prompt_number": 2
    },
    {
     "cell_type": "markdown",
     "metadata": {},
     "source": [
      "`xtrain` and `ytrain` are the feature vectors and classification labels for the training set. `xtest` and `ytest` make up the test set. There are 57 features in total. \n",
      "\n",
      "We can now initialize and train one of the classifiers from `src/classifier.py`:"
     ]
    },
    {
     "cell_type": "code",
     "collapsed": false,
     "input": [
      "from src import classifier\n",
      "logistic = classifier.logistic()\n",
      "logistic.fit(xtrain, ytrain)\n",
      "logistic.score(xtest, ytest)"
     ],
     "language": "python",
     "metadata": {},
     "outputs": [
      {
       "metadata": {},
       "output_type": "pyout",
       "prompt_number": 3,
       "text": [
        "0.92626728110599077"
       ]
      }
     ],
     "prompt_number": 3
    },
    {
     "cell_type": "markdown",
     "metadata": {},
     "source": [
      "The trained classfier has a precision of 93% on the test set. \n",
      "\n",
      "To create an anticlassifier we need the specifications which define each of the features in the vectors we will generate. The file `src/features.py` examines the spambase training set and generates these specifications for us:"
     ]
    },
    {
     "cell_type": "code",
     "collapsed": false,
     "input": [
      "from pprint import pprint\n",
      "from src import features\n",
      "feature_specs = features.SPAMBASE_FEATURE_SPECS\n",
      "pprint(feature_specs[:5])"
     ],
     "language": "python",
     "metadata": {},
     "outputs": [
      {
       "output_type": "stream",
       "stream": "stdout",
       "text": [
        "[{'max': 667.0,\n",
        "  'min': 1.0,\n",
        "  'name': 'capital_run_length_average',\n",
        "  'type': <type 'float'>},\n",
        " {'max': 9989,\n",
        "  'min': 1,\n",
        "  'name': 'capital_run_length_longest',\n",
        "  'type': <type 'int'>},\n",
        " {'max': 10062,\n",
        "  'min': 1,\n",
        "  'name': 'capital_run_length_total',\n",
        "  'type': <type 'int'>},\n",
        " {'max': 32.478000000000002,\n",
        "  'min': 0.0,\n",
        "  'name': 'char_freq_!',\n",
        "  'type': <type 'float'>},\n",
        " {'max': 19.829000000000001,\n",
        "  'min': 0.0,\n",
        "  'name': 'char_freq_#',\n",
        "  'type': <type 'float'>}]\n"
       ]
      }
     ],
     "prompt_number": 4
    },
    {
     "cell_type": "markdown",
     "metadata": {},
     "source": [
      "The feature specs define maximum values, minimum values, and data types for each feature. \n",
      "\n",
      "With this data in hand we can create the anti-classifier using the file `src/anticlassifier.py`:"
     ]
    },
    {
     "cell_type": "code",
     "collapsed": false,
     "input": [
      "from src import anticlassifier\n",
      "anti = anticlassifier.AntiClassifier(logistic, feature_specs)"
     ],
     "language": "python",
     "metadata": {},
     "outputs": [],
     "prompt_number": 5
    },
    {
     "cell_type": "markdown",
     "metadata": {},
     "source": [
      "Upon initialization the `AntiClassifier` object randomly creates 10,000 feature vectors using the provided specifications. It sends these feature vectors to the classifier and records the result. It then uses this information to train it's own anti-classifier. "
     ]
    },
    {
     "cell_type": "code",
     "collapsed": false,
     "input": [
      "anti.anticlassifier"
     ],
     "language": "python",
     "metadata": {},
     "outputs": [
      {
       "metadata": {},
       "output_type": "pyout",
       "prompt_number": 6,
       "text": [
        "Pipeline(steps=[('transform', Pipeline(steps=[('scaler', StandardScaler(copy=True, with_mean=True, with_std=True))])), ('logistic', LogisticRegression(C=1.0, class_weight=None, dual=False, fit_intercept=True,\n",
        "          intercept_scaling=1, max_iter=100, multi_class='ovr',\n",
        "          penalty='l2', random_state=None, solver='liblinear', tol=0.0001,\n",
        "          verbose=0))])"
       ]
      }
     ],
     "prompt_number": 6
    },
    {
     "cell_type": "markdown",
     "metadata": {},
     "source": [
      "The parameters of this anti-classifier can be examined:"
     ]
    },
    {
     "cell_type": "code",
     "collapsed": false,
     "input": [
      "anti._lg_coefs()"
     ],
     "language": "python",
     "metadata": {},
     "outputs": [
      {
       "metadata": {},
       "output_type": "pyout",
       "prompt_number": 7,
       "text": [
        "array([-0.56443292,  5.27054745,  0.70558565,  0.6773321 ,  3.48084495,\n",
        "        2.48099173, -0.08606339, -0.60046222, -1.03307431,  1.00430935,\n",
        "       -0.40445173,  1.30292098, -1.23348603,  0.23834868, -2.19852846,\n",
        "        0.2358517 , -0.09677233,  0.27469905,  0.06066923,  0.48714307,\n",
        "       -1.59970945,  1.30633599, -2.83500853, -1.47503456, -0.20517252,\n",
        "       -2.0805858 ,  0.03897525,  0.55995699,  1.72210401, -3.20200023,\n",
        "       -2.58530258, -0.93054826,  0.51883583, -1.40444885, -1.0010658 ,\n",
        "        0.04429032, -0.16301957, -1.63589781,  0.27290557,  0.28461371,\n",
        "       -0.28579608,  0.33555271,  0.31454412, -0.57334589, -0.08238951,\n",
        "       -0.75598435, -1.95258246, -1.65316312, -0.10189571,  1.2628899 ,\n",
        "        0.04228892, -0.44986278,  0.30182595, -0.00966921, -0.06331583,\n",
        "        0.16848492,  0.17876485])"
       ]
      }
     ],
     "prompt_number": 7
    },
    {
     "cell_type": "markdown",
     "metadata": {},
     "source": [
      "### Generating Feature Vectors\n",
      "\n",
      "The `get()` method is used to generate a feature vector which minimizes the anti-classifier's decision function under a set of provided constraints. We can generate such feature vector with no constraints:"
     ]
    },
    {
     "cell_type": "code",
     "collapsed": false,
     "input": [
      "v = anti.get([])\n",
      "print(v)"
     ],
     "language": "python",
     "metadata": {},
     "outputs": [
      {
       "output_type": "stream",
       "stream": "stdout",
       "text": [
        "[  5.34684869e+02   3.00700000e+03   2.65900000e+03   2.94461099e+00\n",
        "   1.47640324e+01   5.11248661e+00   6.59786816e+00   1.76145913e+00\n",
        "   1.30556690e+00   1.66292944e-01   5.55694477e+00   1.77148279e+01\n",
        "   3.63402416e+00   5.14174765e+00   1.47777292e+00   5.25671973e-01\n",
        "   2.57170510e-01   1.46694099e+00   1.34447322e+00   3.14505100e+00\n",
        "   7.37200882e+00   1.18125370e+01   4.92814270e+00   9.38651174e+00\n",
        "   5.26752025e-01   1.42963013e+01   1.00506178e+00   6.86620104e-01\n",
        "   4.43617894e+00   1.42687462e+01   9.31746681e+00   3.84545793e+00\n",
        "   7.94616982e+00   4.58826274e-01   5.04730829e+00   7.49668567e+00\n",
        "   4.05414369e+00   9.20492785e-01   4.95560262e+00   3.67254615e-01\n",
        "   3.15338322e+00   5.16263345e+00   5.01280394e+00   6.87925298e+00\n",
        "   2.89821268e+00   2.16823495e+00   3.66804469e+00   2.48185610e+00\n",
        "   9.26643476e-01   8.85738023e-01   9.68772050e+00   1.78349246e+00\n",
        "   2.50986900e-01   3.46877431e+00   7.53399170e+00   1.46180658e+01\n",
        "   2.28984124e+00]\n"
       ]
      }
     ],
     "prompt_number": 8
    },
    {
     "cell_type": "markdown",
     "metadata": {},
     "source": [
      "By passing this generated feature vector to the classifier we see that it passes through, as expected (a zero value indicates \"not-spam\" in the spambase data set). "
     ]
    },
    {
     "cell_type": "code",
     "collapsed": false,
     "input": [
      "logistic.predict(v)"
     ],
     "language": "python",
     "metadata": {},
     "outputs": [
      {
       "metadata": {},
       "output_type": "pyout",
       "prompt_number": 9,
       "text": [
        "array([0])"
       ]
      }
     ],
     "prompt_number": 9
    },
    {
     "cell_type": "markdown",
     "metadata": {},
     "source": [
      "We can also provide a set of constraints to get a different feature vector. "
     ]
    },
    {
     "cell_type": "code",
     "collapsed": false,
     "input": [
      "pprint(features.SPAMBASE_CONSTRAINTS)"
     ],
     "language": "python",
     "metadata": {},
     "outputs": [
      {
       "output_type": "stream",
       "stream": "stdout",
       "text": [
        "[{'fun': <function <lambda> at 0x10b397cf8>,\n",
        "  'init': <function <lambda> at 0x10b397b90>,\n",
        "  'name': 'capital_run_length_average_gt_10',\n",
        "  'type': 'ineq'},\n",
        " {'fun': <function <lambda> at 0x10b397e60>,\n",
        "  'init': <function <lambda> at 0x10b397ed8>,\n",
        "  'name': 'capital_run_length_longest_gt_5',\n",
        "  'type': 'ineq'}]\n"
       ]
      }
     ],
     "prompt_number": 10
    },
    {
     "cell_type": "markdown",
     "metadata": {},
     "source": [
      "These constraints require that the feature `capital_run_length_average` be greater than 10 and that the `capital_run_length_longest` feature by greater than 5. \n",
      "\n",
      "We now generate a feature vector under these constraints:"
     ]
    },
    {
     "cell_type": "code",
     "collapsed": false,
     "input": [
      "v = anti.get(features.SPAMBASE_CONSTRAINTS)\n",
      "print(v)"
     ],
     "language": "python",
     "metadata": {},
     "outputs": [
      {
       "output_type": "stream",
       "stream": "stdout",
       "text": [
        "[  2.25696174e+03   1.93038205e+04   7.91735995e+03   1.61126155e+01\n",
        "   1.52353792e+01   2.97514632e+00   8.56446286e+00   3.10757357e+00\n",
        "   3.37103106e+00   4.37566610e+00   6.73276153e+00   2.39408427e+01\n",
        "   2.38757387e+00   4.19148438e+00   1.68517107e+01   2.37261895e+00\n",
        "   7.13675761e+00   1.42492473e+00   4.05761618e+00   3.56948139e+00\n",
        "   5.01913784e+00   1.19770871e+01   3.57579985e+00   9.05113173e+00\n",
        "   3.23119890e+00   7.61714848e+00   2.52462257e+00   8.52732063e+00\n",
        "   9.98410623e+00   1.64601372e+01   1.29478685e+01   4.17247122e+00\n",
        "   5.56606487e+00   5.56053453e+00   3.03146092e+00   9.10648595e+00\n",
        "   2.15984634e+00   5.53524405e+00   9.04156382e+00   1.65409719e+00\n",
        "   1.77776505e+00   4.97526428e+00   5.10543820e+00   4.15902105e+00\n",
        "   3.78531418e+00   8.70356311e+00   8.37466390e+00   1.21235414e+01\n",
        "   1.29308013e+00   3.65973421e+00   6.65061517e+00   1.05084648e+00\n",
        "   3.01660266e+00   3.59566635e+00   5.87374742e+00   9.36403010e+00\n",
        "   6.19009021e+00]\n"
       ]
      }
     ],
     "prompt_number": 11
    },
    {
     "cell_type": "markdown",
     "metadata": {},
     "source": [
      "Again, the classifier marks this as \"not-spam\". "
     ]
    },
    {
     "cell_type": "code",
     "collapsed": false,
     "input": [
      "logistic.predict(v)"
     ],
     "language": "python",
     "metadata": {},
     "outputs": [
      {
       "metadata": {},
       "output_type": "pyout",
       "prompt_number": 12,
       "text": [
        "array([1])"
       ]
      }
     ],
     "prompt_number": 12
    },
    {
     "cell_type": "markdown",
     "metadata": {},
     "source": [
      "## Testing the Anti-Classifier\n",
      "\n",
      "We wish to test the performance of the anti-classifier more thoroughly. In particular, we're interested in how the anticlassifier performs as we add stricter and stricter constraints on the most important features. \n",
      "\n",
      "To test the performance of the anti-classifier we proceed as follows:\n",
      "\n",
      "- Determine the most significant features in classification\n",
      "- Constrain these features one by one and test how well the anti-classifier performs\n",
      "\n",
      "This process is implemented in the `src/evaluate.py` file. "
     ]
    },
    {
     "cell_type": "code",
     "collapsed": false,
     "input": [
      "from src import evaluate"
     ],
     "language": "python",
     "metadata": {},
     "outputs": [],
     "prompt_number": 13
    },
    {
     "cell_type": "markdown",
     "metadata": {},
     "source": [
      "The most significant features are determined by examining the p-values of an ANOVA hypothesis test. These features are then constrained to their maximum and mid-range values to determine how well the anti-classifier performs. \n",
      "\n",
      "We can perform this test for several different target classifiers. \n",
      "\n",
      "### Logistical Regression Classifier\n",
      "\n",
      "First we test a logistical regression classifier which was already initialized, above. \n",
      "\n",
      "#### Constrain to Max Value\n",
      "\n",
      "We begin testing by constraining the most significant features to their maximum values. To test it we pass it to the `evaluate.evaluate()` function. "
     ]
    },
    {
     "cell_type": "code",
     "collapsed": false,
     "input": [
      "logistic_perf_max = evaluate.evaluate(logistic, constrain=\"max\")\n",
      "logistic_perf_max.head(10)"
     ],
     "language": "python",
     "metadata": {},
     "outputs": [
      {
       "html": [
        "<div style=\"max-width:1500px;overflow:auto;\">\n",
        "<table border=\"1\" class=\"dataframe\">\n",
        "  <thead>\n",
        "    <tr style=\"text-align: right;\">\n",
        "      <th></th>\n",
        "      <th>significant_features_constrained</th>\n",
        "      <th>anticlassifier_score</th>\n",
        "      <th>classifier_score</th>\n",
        "    </tr>\n",
        "  </thead>\n",
        "  <tbody>\n",
        "    <tr>\n",
        "      <th>1</th>\n",
        "      <td>0</td>\n",
        "      <td>0.985</td>\n",
        "      <td>0.926267</td>\n",
        "    </tr>\n",
        "    <tr>\n",
        "      <th>2</th>\n",
        "      <td>1</td>\n",
        "      <td>0.610</td>\n",
        "      <td>0.926267</td>\n",
        "    </tr>\n",
        "    <tr>\n",
        "      <th>3</th>\n",
        "      <td>2</td>\n",
        "      <td>0.252</td>\n",
        "      <td>0.926267</td>\n",
        "    </tr>\n",
        "    <tr>\n",
        "      <th>4</th>\n",
        "      <td>3</td>\n",
        "      <td>0.000</td>\n",
        "      <td>0.926267</td>\n",
        "    </tr>\n",
        "    <tr>\n",
        "      <th>5</th>\n",
        "      <td>4</td>\n",
        "      <td>0.000</td>\n",
        "      <td>0.926267</td>\n",
        "    </tr>\n",
        "    <tr>\n",
        "      <th>6</th>\n",
        "      <td>5</td>\n",
        "      <td>0.000</td>\n",
        "      <td>0.926267</td>\n",
        "    </tr>\n",
        "    <tr>\n",
        "      <th>7</th>\n",
        "      <td>6</td>\n",
        "      <td>0.000</td>\n",
        "      <td>0.926267</td>\n",
        "    </tr>\n",
        "    <tr>\n",
        "      <th>8</th>\n",
        "      <td>7</td>\n",
        "      <td>0.000</td>\n",
        "      <td>0.926267</td>\n",
        "    </tr>\n",
        "    <tr>\n",
        "      <th>9</th>\n",
        "      <td>8</td>\n",
        "      <td>0.000</td>\n",
        "      <td>0.926267</td>\n",
        "    </tr>\n",
        "    <tr>\n",
        "      <th>10</th>\n",
        "      <td>9</td>\n",
        "      <td>0.000</td>\n",
        "      <td>0.926267</td>\n",
        "    </tr>\n",
        "  </tbody>\n",
        "</table>\n",
        "</div>"
       ],
       "metadata": {},
       "output_type": "pyout",
       "prompt_number": 14,
       "text": [
        "    significant_features_constrained  anticlassifier_score  classifier_score\n",
        "1                                  0                 0.985          0.926267\n",
        "2                                  1                 0.610          0.926267\n",
        "3                                  2                 0.252          0.926267\n",
        "4                                  3                 0.000          0.926267\n",
        "5                                  4                 0.000          0.926267\n",
        "6                                  5                 0.000          0.926267\n",
        "7                                  6                 0.000          0.926267\n",
        "8                                  7                 0.000          0.926267\n",
        "9                                  8                 0.000          0.926267\n",
        "10                                 9                 0.000          0.926267"
       ]
      }
     ],
     "prompt_number": 14
    },
    {
     "cell_type": "code",
     "collapsed": false,
     "input": [
      "plt.plot(logistic_perf_max[\"significant_features_constrained\"], logistic_perf_max[\"anticlassifier_score\"])\n",
      "plt.xlabel(\"Significant Features Constrained to Max\")\n",
      "plt.ylabel(\"Anti-Classifier Score\")\n",
      "plt.show()"
     ],
     "language": "python",
     "metadata": {},
     "outputs": [
      {
       "metadata": {},
       "output_type": "display_data",
       "png": "[encoded data removed]",
       "text": [
        "<matplotlib.figure.Figure at 0x10d466e50>"
       ]
      }
     ],
     "prompt_number": 15
    },
    {
     "cell_type": "markdown",
     "metadata": {},
     "source": [
      "By maximizing just 3 of the 57 features used by the classifier we become completely unable to generate vectors which are accepted. Most machine-learning problem spaces have only a few features which dominate the output so this behaviour is expected. "
     ]
    },
    {
     "cell_type": "markdown",
     "metadata": {},
     "source": [
      "#### Constrain to Mid-Range Value\n",
      "\n",
      "We now constrain features to values in the middle of their range. "
     ]
    },
    {
     "cell_type": "code",
     "collapsed": false,
     "input": [
      "logistic_perf_mid = evaluate.evaluate(logistic, constrain=\"mid\")\n",
      "logistic_perf_mid.head(10)"
     ],
     "language": "python",
     "metadata": {},
     "outputs": [
      {
       "html": [
        "<div style=\"max-width:1500px;overflow:auto;\">\n",
        "<table border=\"1\" class=\"dataframe\">\n",
        "  <thead>\n",
        "    <tr style=\"text-align: right;\">\n",
        "      <th></th>\n",
        "      <th>significant_features_constrained</th>\n",
        "      <th>anticlassifier_score</th>\n",
        "      <th>classifier_score</th>\n",
        "    </tr>\n",
        "  </thead>\n",
        "  <tbody>\n",
        "    <tr>\n",
        "      <th>1</th>\n",
        "      <td>0</td>\n",
        "      <td>0.983</td>\n",
        "      <td>0.926267</td>\n",
        "    </tr>\n",
        "    <tr>\n",
        "      <th>2</th>\n",
        "      <td>1</td>\n",
        "      <td>0.999</td>\n",
        "      <td>0.926267</td>\n",
        "    </tr>\n",
        "    <tr>\n",
        "      <th>3</th>\n",
        "      <td>2</td>\n",
        "      <td>0.997</td>\n",
        "      <td>0.926267</td>\n",
        "    </tr>\n",
        "    <tr>\n",
        "      <th>4</th>\n",
        "      <td>3</td>\n",
        "      <td>0.029</td>\n",
        "      <td>0.926267</td>\n",
        "    </tr>\n",
        "    <tr>\n",
        "      <th>5</th>\n",
        "      <td>4</td>\n",
        "      <td>0.002</td>\n",
        "      <td>0.926267</td>\n",
        "    </tr>\n",
        "    <tr>\n",
        "      <th>6</th>\n",
        "      <td>5</td>\n",
        "      <td>0.006</td>\n",
        "      <td>0.926267</td>\n",
        "    </tr>\n",
        "    <tr>\n",
        "      <th>7</th>\n",
        "      <td>6</td>\n",
        "      <td>0.000</td>\n",
        "      <td>0.926267</td>\n",
        "    </tr>\n",
        "    <tr>\n",
        "      <th>8</th>\n",
        "      <td>7</td>\n",
        "      <td>0.000</td>\n",
        "      <td>0.926267</td>\n",
        "    </tr>\n",
        "    <tr>\n",
        "      <th>9</th>\n",
        "      <td>8</td>\n",
        "      <td>0.000</td>\n",
        "      <td>0.926267</td>\n",
        "    </tr>\n",
        "    <tr>\n",
        "      <th>10</th>\n",
        "      <td>9</td>\n",
        "      <td>0.000</td>\n",
        "      <td>0.926267</td>\n",
        "    </tr>\n",
        "  </tbody>\n",
        "</table>\n",
        "</div>"
       ],
       "metadata": {},
       "output_type": "pyout",
       "prompt_number": 16,
       "text": [
        "    significant_features_constrained  anticlassifier_score  classifier_score\n",
        "1                                  0                 0.983          0.926267\n",
        "2                                  1                 0.999          0.926267\n",
        "3                                  2                 0.997          0.926267\n",
        "4                                  3                 0.029          0.926267\n",
        "5                                  4                 0.002          0.926267\n",
        "6                                  5                 0.006          0.926267\n",
        "7                                  6                 0.000          0.926267\n",
        "8                                  7                 0.000          0.926267\n",
        "9                                  8                 0.000          0.926267\n",
        "10                                 9                 0.000          0.926267"
       ]
      }
     ],
     "prompt_number": 16
    },
    {
     "cell_type": "code",
     "collapsed": false,
     "input": [
      "plt.plot(logistic_perf_mid[\"significant_features_constrained\"], logistic_perf_mid[\"anticlassifier_score\"])\n",
      "plt.xlabel(\"Significant Features Constrained to Mid\")\n",
      "plt.ylabel(\"Anti-Classifier Score\")\n",
      "plt.show()"
     ],
     "language": "python",
     "metadata": {},
     "outputs": [
      {
       "metadata": {},
       "output_type": "display_data",
       "png": "[encoded data removed]",
       "text": [
        "<matplotlib.figure.Figure at 0x10c839050>"
       ]
      }
     ],
     "prompt_number": 17
    },
    {
     "cell_type": "markdown",
     "metadata": {},
     "source": [
      "We see the same results with mid-range constraints. This probably means that the decision boundary on these significant features is below the mid-range value, and therefore the classifier exhibits the same behaviour as the max-value case. "
     ]
    },
    {
     "cell_type": "markdown",
     "metadata": {},
     "source": [
      "### Support Vector Machine\n",
      "\n",
      "Next we target a support vector machine. "
     ]
    },
    {
     "cell_type": "code",
     "collapsed": false,
     "input": [
      "svm = classifier.svm()\n",
      "svm.fit(xtrain, ytrain)\n",
      "print(svm.score(xtest, ytest))"
     ],
     "language": "python",
     "metadata": {},
     "outputs": [
      {
       "output_type": "stream",
       "stream": "stdout",
       "text": [
        "0.927583936801\n"
       ]
      }
     ],
     "prompt_number": 18
    },
    {
     "cell_type": "markdown",
     "metadata": {},
     "source": [
      "The SVM begins with an accuracy of 93%. "
     ]
    },
    {
     "cell_type": "markdown",
     "metadata": {},
     "source": [
      "#### Constrain to Max Values"
     ]
    },
    {
     "cell_type": "code",
     "collapsed": false,
     "input": [
      "svm_perf_max = evaluate.evaluate(svm, constrain=\"max\")\n",
      "svm_perf_max.head(10)"
     ],
     "language": "python",
     "metadata": {},
     "outputs": [
      {
       "html": [
        "<div style=\"max-width:1500px;overflow:auto;\">\n",
        "<table border=\"1\" class=\"dataframe\">\n",
        "  <thead>\n",
        "    <tr style=\"text-align: right;\">\n",
        "      <th></th>\n",
        "      <th>significant_features_constrained</th>\n",
        "      <th>anticlassifier_score</th>\n",
        "      <th>classifier_score</th>\n",
        "    </tr>\n",
        "  </thead>\n",
        "  <tbody>\n",
        "    <tr>\n",
        "      <th>1</th>\n",
        "      <td>0</td>\n",
        "      <td>0.983</td>\n",
        "      <td>0.924951</td>\n",
        "    </tr>\n",
        "    <tr>\n",
        "      <th>2</th>\n",
        "      <td>1</td>\n",
        "      <td>0.705</td>\n",
        "      <td>0.924951</td>\n",
        "    </tr>\n",
        "    <tr>\n",
        "      <th>3</th>\n",
        "      <td>2</td>\n",
        "      <td>0.519</td>\n",
        "      <td>0.924951</td>\n",
        "    </tr>\n",
        "    <tr>\n",
        "      <th>4</th>\n",
        "      <td>3</td>\n",
        "      <td>0.006</td>\n",
        "      <td>0.924951</td>\n",
        "    </tr>\n",
        "    <tr>\n",
        "      <th>5</th>\n",
        "      <td>4</td>\n",
        "      <td>0.003</td>\n",
        "      <td>0.924951</td>\n",
        "    </tr>\n",
        "    <tr>\n",
        "      <th>6</th>\n",
        "      <td>5</td>\n",
        "      <td>0.000</td>\n",
        "      <td>0.924951</td>\n",
        "    </tr>\n",
        "    <tr>\n",
        "      <th>7</th>\n",
        "      <td>6</td>\n",
        "      <td>0.000</td>\n",
        "      <td>0.924951</td>\n",
        "    </tr>\n",
        "    <tr>\n",
        "      <th>8</th>\n",
        "      <td>7</td>\n",
        "      <td>0.000</td>\n",
        "      <td>0.924951</td>\n",
        "    </tr>\n",
        "    <tr>\n",
        "      <th>9</th>\n",
        "      <td>8</td>\n",
        "      <td>0.000</td>\n",
        "      <td>0.924951</td>\n",
        "    </tr>\n",
        "    <tr>\n",
        "      <th>10</th>\n",
        "      <td>9</td>\n",
        "      <td>0.000</td>\n",
        "      <td>0.924951</td>\n",
        "    </tr>\n",
        "  </tbody>\n",
        "</table>\n",
        "</div>"
       ],
       "metadata": {},
       "output_type": "pyout",
       "prompt_number": 19,
       "text": [
        "    significant_features_constrained  anticlassifier_score  classifier_score\n",
        "1                                  0                 0.983          0.924951\n",
        "2                                  1                 0.705          0.924951\n",
        "3                                  2                 0.519          0.924951\n",
        "4                                  3                 0.006          0.924951\n",
        "5                                  4                 0.003          0.924951\n",
        "6                                  5                 0.000          0.924951\n",
        "7                                  6                 0.000          0.924951\n",
        "8                                  7                 0.000          0.924951\n",
        "9                                  8                 0.000          0.924951\n",
        "10                                 9                 0.000          0.924951"
       ]
      }
     ],
     "prompt_number": 19
    },
    {
     "cell_type": "code",
     "collapsed": false,
     "input": [
      "plt.plot(svm_perf_max[\"significant_features_constrained\"], svm_perf_max[\"anticlassifier_score\"])\n",
      "plt.xlabel(\"Significant Features Constrained to Max\")\n",
      "plt.ylabel(\"Anti-Classifier Score\")\n",
      "plt.show()"
     ],
     "language": "python",
     "metadata": {},
     "outputs": [
      {
       "metadata": {},
       "output_type": "display_data",
       "png": "[encoded data removed]",
       "text": [
        "<matplotlib.figure.Figure at 0x10c86b8d0>"
       ]
      }
     ],
     "prompt_number": 20
    },
    {
     "cell_type": "markdown",
     "metadata": {},
     "source": [
      "Again, the three most significant features determine how well the anti-classifier performs. \n",
      "\n",
      "#### Constrain to Mid-Range Values"
     ]
    },
    {
     "cell_type": "code",
     "collapsed": false,
     "input": [
      "svm_perf_mid = evaluate.evaluate(svm, constrain=\"mid\")\n",
      "svm_perf_mid.head(10)"
     ],
     "language": "python",
     "metadata": {},
     "outputs": [
      {
       "html": [
        "<div style=\"max-width:1500px;overflow:auto;\">\n",
        "<table border=\"1\" class=\"dataframe\">\n",
        "  <thead>\n",
        "    <tr style=\"text-align: right;\">\n",
        "      <th></th>\n",
        "      <th>significant_features_constrained</th>\n",
        "      <th>anticlassifier_score</th>\n",
        "      <th>classifier_score</th>\n",
        "    </tr>\n",
        "  </thead>\n",
        "  <tbody>\n",
        "    <tr>\n",
        "      <th>1</th>\n",
        "      <td>0</td>\n",
        "      <td>0.992</td>\n",
        "      <td>0.925609</td>\n",
        "    </tr>\n",
        "    <tr>\n",
        "      <th>2</th>\n",
        "      <td>1</td>\n",
        "      <td>1.000</td>\n",
        "      <td>0.925609</td>\n",
        "    </tr>\n",
        "    <tr>\n",
        "      <th>3</th>\n",
        "      <td>2</td>\n",
        "      <td>1.000</td>\n",
        "      <td>0.925609</td>\n",
        "    </tr>\n",
        "    <tr>\n",
        "      <th>4</th>\n",
        "      <td>3</td>\n",
        "      <td>0.190</td>\n",
        "      <td>0.925609</td>\n",
        "    </tr>\n",
        "    <tr>\n",
        "      <th>5</th>\n",
        "      <td>4</td>\n",
        "      <td>0.136</td>\n",
        "      <td>0.925609</td>\n",
        "    </tr>\n",
        "    <tr>\n",
        "      <th>6</th>\n",
        "      <td>5</td>\n",
        "      <td>0.117</td>\n",
        "      <td>0.925609</td>\n",
        "    </tr>\n",
        "    <tr>\n",
        "      <th>7</th>\n",
        "      <td>6</td>\n",
        "      <td>0.015</td>\n",
        "      <td>0.925609</td>\n",
        "    </tr>\n",
        "    <tr>\n",
        "      <th>8</th>\n",
        "      <td>7</td>\n",
        "      <td>0.011</td>\n",
        "      <td>0.925609</td>\n",
        "    </tr>\n",
        "    <tr>\n",
        "      <th>9</th>\n",
        "      <td>8</td>\n",
        "      <td>0.018</td>\n",
        "      <td>0.925609</td>\n",
        "    </tr>\n",
        "    <tr>\n",
        "      <th>10</th>\n",
        "      <td>9</td>\n",
        "      <td>0.003</td>\n",
        "      <td>0.925609</td>\n",
        "    </tr>\n",
        "  </tbody>\n",
        "</table>\n",
        "</div>"
       ],
       "metadata": {},
       "output_type": "pyout",
       "prompt_number": 21,
       "text": [
        "    significant_features_constrained  anticlassifier_score  classifier_score\n",
        "1                                  0                 0.992          0.925609\n",
        "2                                  1                 1.000          0.925609\n",
        "3                                  2                 1.000          0.925609\n",
        "4                                  3                 0.190          0.925609\n",
        "5                                  4                 0.136          0.925609\n",
        "6                                  5                 0.117          0.925609\n",
        "7                                  6                 0.015          0.925609\n",
        "8                                  7                 0.011          0.925609\n",
        "9                                  8                 0.018          0.925609\n",
        "10                                 9                 0.003          0.925609"
       ]
      }
     ],
     "prompt_number": 21
    },
    {
     "cell_type": "code",
     "collapsed": false,
     "input": [
      "plt.plot(svm_perf_mid[\"significant_features_constrained\"], svm_perf_mid[\"anticlassifier_score\"])\n",
      "plt.xlabel(\"Significant Features Constrained to Mid\")\n",
      "plt.ylabel(\"Anti-Classifier Score\")\n",
      "plt.show()"
     ],
     "language": "python",
     "metadata": {},
     "outputs": [
      {
       "metadata": {},
       "output_type": "display_data",
       "png": "[encoded data removed]",
       "text": [
        "<matplotlib.figure.Figure at 0x10b5a66d0>"
       ]
      }
     ],
     "prompt_number": 22
    },
    {
     "cell_type": "markdown",
     "metadata": {},
     "source": [
      "Again, we see similar behaviour to the max-value case. "
     ]
    },
    {
     "cell_type": "markdown",
     "metadata": {},
     "source": [
      "### The Naive Bayes Classifier\n",
      "\n",
      "Finally we target a naive bayes classifier and perform the same test. "
     ]
    },
    {
     "cell_type": "code",
     "collapsed": false,
     "input": [
      "bayes = classifier.naive_bayes()\n",
      "bayes.fit(xtrain, ytrain)\n",
      "print(bayes.score(xtest, ytest))"
     ],
     "language": "python",
     "metadata": {},
     "outputs": [
      {
       "output_type": "stream",
       "stream": "stdout",
       "text": [
        "0.810401579987\n"
       ]
      }
     ],
     "prompt_number": 23
    },
    {
     "cell_type": "markdown",
     "metadata": {},
     "source": [
      "The naive bayes algorithm begins with an accuracy of 81%, which is not good. This should be improved in future testing. "
     ]
    },
    {
     "cell_type": "markdown",
     "metadata": {},
     "source": [
      "#### Constrain to Max Values"
     ]
    },
    {
     "cell_type": "code",
     "collapsed": false,
     "input": [
      "bayes_perf = evaluate.evaluate(bayes, constrain=\"max\")\n",
      "bayes_perf.head(10)"
     ],
     "language": "python",
     "metadata": {},
     "outputs": [
      {
       "html": [
        "<div style=\"max-width:1500px;overflow:auto;\">\n",
        "<table border=\"1\" class=\"dataframe\">\n",
        "  <thead>\n",
        "    <tr style=\"text-align: right;\">\n",
        "      <th></th>\n",
        "      <th>significant_features_constrained</th>\n",
        "      <th>anticlassifier_score</th>\n",
        "      <th>classifier_score</th>\n",
        "    </tr>\n",
        "  </thead>\n",
        "  <tbody>\n",
        "    <tr>\n",
        "      <th>1</th>\n",
        "      <td>0</td>\n",
        "      <td>1</td>\n",
        "      <td>0.810402</td>\n",
        "    </tr>\n",
        "    <tr>\n",
        "      <th>2</th>\n",
        "      <td>1</td>\n",
        "      <td>1</td>\n",
        "      <td>0.810402</td>\n",
        "    </tr>\n",
        "    <tr>\n",
        "      <th>3</th>\n",
        "      <td>2</td>\n",
        "      <td>1</td>\n",
        "      <td>0.810402</td>\n",
        "    </tr>\n",
        "    <tr>\n",
        "      <th>4</th>\n",
        "      <td>3</td>\n",
        "      <td>1</td>\n",
        "      <td>0.810402</td>\n",
        "    </tr>\n",
        "    <tr>\n",
        "      <th>5</th>\n",
        "      <td>4</td>\n",
        "      <td>1</td>\n",
        "      <td>0.810402</td>\n",
        "    </tr>\n",
        "    <tr>\n",
        "      <th>6</th>\n",
        "      <td>5</td>\n",
        "      <td>1</td>\n",
        "      <td>0.810402</td>\n",
        "    </tr>\n",
        "    <tr>\n",
        "      <th>7</th>\n",
        "      <td>6</td>\n",
        "      <td>1</td>\n",
        "      <td>0.810402</td>\n",
        "    </tr>\n",
        "    <tr>\n",
        "      <th>8</th>\n",
        "      <td>7</td>\n",
        "      <td>1</td>\n",
        "      <td>0.810402</td>\n",
        "    </tr>\n",
        "    <tr>\n",
        "      <th>9</th>\n",
        "      <td>8</td>\n",
        "      <td>1</td>\n",
        "      <td>0.810402</td>\n",
        "    </tr>\n",
        "    <tr>\n",
        "      <th>10</th>\n",
        "      <td>9</td>\n",
        "      <td>1</td>\n",
        "      <td>0.810402</td>\n",
        "    </tr>\n",
        "  </tbody>\n",
        "</table>\n",
        "</div>"
       ],
       "metadata": {},
       "output_type": "pyout",
       "prompt_number": 24,
       "text": [
        "    significant_features_constrained  anticlassifier_score  classifier_score\n",
        "1                                  0                     1          0.810402\n",
        "2                                  1                     1          0.810402\n",
        "3                                  2                     1          0.810402\n",
        "4                                  3                     1          0.810402\n",
        "5                                  4                     1          0.810402\n",
        "6                                  5                     1          0.810402\n",
        "7                                  6                     1          0.810402\n",
        "8                                  7                     1          0.810402\n",
        "9                                  8                     1          0.810402\n",
        "10                                 9                     1          0.810402"
       ]
      }
     ],
     "prompt_number": 24
    },
    {
     "cell_type": "code",
     "collapsed": false,
     "input": [
      "plt.plot(bayes_perf[\"significant_features_constrained\"], bayes_perf[\"anticlassifier_score\"])\n",
      "plt.xlabel(\"Significant Features Constrained\")\n",
      "plt.ylabel(\"Anti-Classifier Score\")\n",
      "plt.show()"
     ],
     "language": "python",
     "metadata": {},
     "outputs": [
      {
       "metadata": {},
       "output_type": "display_data",
       "png": "[encoded data removed]",
       "text": [
        "<matplotlib.figure.Figure at 0x10d52a610>"
       ]
      }
     ],
     "prompt_number": 25
    },
    {
     "cell_type": "markdown",
     "metadata": {},
     "source": [
      "In this case it appears that the naive bayes classifier's precision was so low that the anti-classifier was always able to generate a vector that was accepted. "
     ]
    },
    {
     "cell_type": "markdown",
     "metadata": {},
     "source": [
      "\n",
      "\n",
      "## Conclusions\n",
      "\n",
      "We've found that a small number of features are overwhelmingly significant in determining whether or not we can \"beat\" a classifier. If the classifier is properly trained then we must know which features are most significant if we are to have any hope of beating it. \n",
      "\n",
      "If we are forced to constrain ourselves to a sub-space of features then that subspace must contain the most significant features.  Otherwise the anti-classifier cannot construct a feature vector that beats the classifier. \n",
      "\n",
      "This behaviour is consistent with a pattern seen elsewhere in machine learning and data science. Most problem spaces have only a few features which dominate the output behaviour of classification algorithms. Finding and exploiting these features is the most critical part of building a classification pipeline. \n",
      "\n",
      "This limits the usefulness of the anti-classifier approach because before we build it, we must know what the most significant features are. Without this prior knowledge the anti-classifier would be useless.\n",
      "\n",
      "Nevertheless this was an interesting exercise and a good way of learning about how important feature selection is. "
     ]
    }
   ],
   "metadata": {}
  }
 ]
}